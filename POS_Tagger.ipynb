{
  "nbformat": 4,
  "nbformat_minor": 0,
  "metadata": {
    "colab": {
      "name": "POS Tagger.ipynb",
      "version": "0.3.2",
      "views": {},
      "default_view": {},
      "provenance": [],
      "collapsed_sections": []
    },
    "kernelspec": {
      "display_name": "Python 3",
      "language": "python",
      "name": "python3"
    },
    "accelerator": "GPU"
  },
  "cells": [
    {
      "metadata": {
        "id": "Z_4MLa2lVuRA",
        "colab_type": "text"
      },
      "cell_type": "markdown",
      "source": [
        "# <u>Part of Speech Tagger\n",
        "This notebook contains model for tagging POS in an English sentence. There are many POS tags. The model converts the sentence to POS tags. Tags used are:<br>\n",
        "    \n",
        "**ADJ - Adjective<br>\n",
        "ADP - Adposition\n",
        "ADV - Adverb<br>\n",
        "PRT -\tParticle<br> \n",
        "PRON - Pronoun<br>\n",
        ".\t   - Punctuation marks<br>\n",
        "X\t- Other\t<br>\n",
        "VERB - Verb<br>\n",
        "CONJ\t- Conjunction<br>\n",
        "DET - Determiner / Article\t\n",
        "NOUN\t- Noun\t<br>\n",
        "NUM - Numeral<br>**"
      ]
    },
    {
      "metadata": {
        "id": "XVVTS_lhVuRF",
        "colab_type": "code",
        "colab": {
          "autoexec": {
            "startup": false,
            "wait_interval": 0
          }
        }
      },
      "cell_type": "code",
      "source": [
        "import nltk\n",
        "import numpy as np\n",
        "from tqdm import tqdm\n",
        "from sklearn.model_selection import train_test_split"
      ],
      "execution_count": 0,
      "outputs": []
    },
    {
      "metadata": {
        "id": "QwEm22oIVuRT",
        "colab_type": "code",
        "colab": {
          "autoexec": {
            "startup": false,
            "wait_interval": 0
          },
          "base_uri": "https://localhost:8080/",
          "height": 130
        },
        "outputId": "683749ef-b665-46b0-81d1-5246d28259be",
        "executionInfo": {
          "status": "ok",
          "timestamp": 1530186611764,
          "user_tz": -330,
          "elapsed": 6586,
          "user": {
            "displayName": "Susanta Biswas",
            "photoUrl": "//lh5.googleusercontent.com/-j4zod5jytCU/AAAAAAAAAAI/AAAAAAAAAMw/oM-QES-nuuY/s50-c-k-no/photo.jpg",
            "userId": "109162984466767800710"
          }
        }
      },
      "cell_type": "code",
      "source": [
        "# import training data. \n",
        "# We will be using the nltk data \n",
        "nltk.download('brown')\n",
        "nltk.download('universal_tagset')\n",
        "\n",
        "# load training data from nltk library\n",
        "all_tags = ['<EOS>','<UNK>','ADV', 'NOUN', 'ADP', 'PRON', 'DET',\n",
        "            '.', 'PRT', 'VERB', 'X', 'NUM', 'CONJ', 'ADJ']\n",
        "data = nltk.corpus.brown.tagged_sents(tagset='universal')\n",
        "print(len(data))"
      ],
      "execution_count": 7,
      "outputs": [
        {
          "output_type": "stream",
          "text": [
            "[nltk_data] Downloading package brown to /content/nltk_data...\n",
            "[nltk_data]   Unzipping corpora/brown.zip.\n",
            "[nltk_data] Downloading package universal_tagset to\n",
            "[nltk_data]     /content/nltk_data...\n",
            "[nltk_data]   Unzipping taggers/universal_tagset.zip.\n",
            "57340\n"
          ],
          "name": "stdout"
        }
      ]
    },
    {
      "metadata": {
        "id": "xslNs0qiVuRf",
        "colab_type": "code",
        "colab": {
          "autoexec": {
            "startup": false,
            "wait_interval": 0
          },
          "base_uri": "https://localhost:8080/",
          "height": 56
        },
        "outputId": "4191c066-616e-43db-83b1-861ccd158b86",
        "executionInfo": {
          "status": "ok",
          "timestamp": 1530186612867,
          "user_tz": -330,
          "elapsed": 1046,
          "user": {
            "displayName": "Susanta Biswas",
            "photoUrl": "//lh5.googleusercontent.com/-j4zod5jytCU/AAAAAAAAAAI/AAAAAAAAAMw/oM-QES-nuuY/s50-c-k-no/photo.jpg",
            "userId": "109162984466767800710"
          }
        }
      },
      "cell_type": "code",
      "source": [
        "data"
      ],
      "execution_count": 8,
      "outputs": [
        {
          "output_type": "execute_result",
          "data": {
            "text/plain": [
              "[[('The', 'DET'), ('Fulton', 'NOUN'), ('County', 'NOUN'), ('Grand', 'ADJ'), ('Jury', 'NOUN'), ('said', 'VERB'), ('Friday', 'NOUN'), ('an', 'DET'), ('investigation', 'NOUN'), ('of', 'ADP'), (\"Atlanta's\", 'NOUN'), ('recent', 'ADJ'), ('primary', 'NOUN'), ('election', 'NOUN'), ('produced', 'VERB'), ('``', '.'), ('no', 'DET'), ('evidence', 'NOUN'), (\"''\", '.'), ('that', 'ADP'), ('any', 'DET'), ('irregularities', 'NOUN'), ('took', 'VERB'), ('place', 'NOUN'), ('.', '.')], [('The', 'DET'), ('jury', 'NOUN'), ('further', 'ADV'), ('said', 'VERB'), ('in', 'ADP'), ('term-end', 'NOUN'), ('presentments', 'NOUN'), ('that', 'ADP'), ('the', 'DET'), ('City', 'NOUN'), ('Executive', 'ADJ'), ('Committee', 'NOUN'), (',', '.'), ('which', 'DET'), ('had', 'VERB'), ('over-all', 'ADJ'), ('charge', 'NOUN'), ('of', 'ADP'), ('the', 'DET'), ('election', 'NOUN'), (',', '.'), ('``', '.'), ('deserves', 'VERB'), ('the', 'DET'), ('praise', 'NOUN'), ('and', 'CONJ'), ('thanks', 'NOUN'), ('of', 'ADP'), ('the', 'DET'), ('City', 'NOUN'), ('of', 'ADP'), ('Atlanta', 'NOUN'), (\"''\", '.'), ('for', 'ADP'), ('the', 'DET'), ('manner', 'NOUN'), ('in', 'ADP'), ('which', 'DET'), ('the', 'DET'), ('election', 'NOUN'), ('was', 'VERB'), ('conducted', 'VERB'), ('.', '.')], ...]"
            ]
          },
          "metadata": {
            "tags": []
          },
          "execution_count": 8
        }
      ]
    },
    {
      "metadata": {
        "id": "PLwc6WWDVuRq",
        "colab_type": "code",
        "colab": {
          "autoexec": {
            "startup": false,
            "wait_interval": 0
          },
          "base_uri": "https://localhost:8080/",
          "height": 828
        },
        "outputId": "26ff3cd5-9b49-4ec5-cde2-6f6c254d8469",
        "executionInfo": {
          "status": "ok",
          "timestamp": 1530186619227,
          "user_tz": -330,
          "elapsed": 6211,
          "user": {
            "displayName": "Susanta Biswas",
            "photoUrl": "//lh5.googleusercontent.com/-j4zod5jytCU/AAAAAAAAAAI/AAAAAAAAAMw/oM-QES-nuuY/s50-c-k-no/photo.jpg",
            "userId": "109162984466767800710"
          }
        }
      },
      "cell_type": "code",
      "source": [
        "# convert the data into list of (word, tag) format for each sentence in the train_data\n",
        "data = [[(word.lower(), tag) for word, tag in sentence] for sentence in data]\n",
        "data[1]"
      ],
      "execution_count": 9,
      "outputs": [
        {
          "output_type": "execute_result",
          "data": {
            "text/plain": [
              "[('the', 'DET'),\n",
              " ('jury', 'NOUN'),\n",
              " ('further', 'ADV'),\n",
              " ('said', 'VERB'),\n",
              " ('in', 'ADP'),\n",
              " ('term-end', 'NOUN'),\n",
              " ('presentments', 'NOUN'),\n",
              " ('that', 'ADP'),\n",
              " ('the', 'DET'),\n",
              " ('city', 'NOUN'),\n",
              " ('executive', 'ADJ'),\n",
              " ('committee', 'NOUN'),\n",
              " (',', '.'),\n",
              " ('which', 'DET'),\n",
              " ('had', 'VERB'),\n",
              " ('over-all', 'ADJ'),\n",
              " ('charge', 'NOUN'),\n",
              " ('of', 'ADP'),\n",
              " ('the', 'DET'),\n",
              " ('election', 'NOUN'),\n",
              " (',', '.'),\n",
              " ('``', '.'),\n",
              " ('deserves', 'VERB'),\n",
              " ('the', 'DET'),\n",
              " ('praise', 'NOUN'),\n",
              " ('and', 'CONJ'),\n",
              " ('thanks', 'NOUN'),\n",
              " ('of', 'ADP'),\n",
              " ('the', 'DET'),\n",
              " ('city', 'NOUN'),\n",
              " ('of', 'ADP'),\n",
              " ('atlanta', 'NOUN'),\n",
              " (\"''\", '.'),\n",
              " ('for', 'ADP'),\n",
              " ('the', 'DET'),\n",
              " ('manner', 'NOUN'),\n",
              " ('in', 'ADP'),\n",
              " ('which', 'DET'),\n",
              " ('the', 'DET'),\n",
              " ('election', 'NOUN'),\n",
              " ('was', 'VERB'),\n",
              " ('conducted', 'VERB'),\n",
              " ('.', '.')]"
            ]
          },
          "metadata": {
            "tags": []
          },
          "execution_count": 9
        }
      ]
    },
    {
      "metadata": {
        "id": "OFUcmsO9VuRy",
        "colab_type": "code",
        "colab": {
          "autoexec": {
            "startup": false,
            "wait_interval": 0
          },
          "base_uri": "https://localhost:8080/",
          "height": 55
        },
        "outputId": "d755446d-407c-4f67-d439-c2aa13650310",
        "executionInfo": {
          "status": "ok",
          "timestamp": 1530187024884,
          "user_tz": -330,
          "elapsed": 1285,
          "user": {
            "displayName": "Susanta Biswas",
            "photoUrl": "//lh5.googleusercontent.com/-j4zod5jytCU/AAAAAAAAAAI/AAAAAAAAAMw/oM-QES-nuuY/s50-c-k-no/photo.jpg",
            "userId": "109162984466767800710"
          }
        }
      },
      "cell_type": "code",
      "source": [
        "train_data, test_data = train_test_split(data,test_size=0.20)\n",
        "print(len(train_data))\n",
        "print(len(test_data))"
      ],
      "execution_count": 30,
      "outputs": [
        {
          "output_type": "stream",
          "text": [
            "45872\n",
            "11468\n"
          ],
          "name": "stdout"
        }
      ]
    },
    {
      "metadata": {
        "id": "XEti_6E6VuR3",
        "colab_type": "text"
      },
      "cell_type": "markdown",
      "source": [
        "### Building Vocabulary Mappings\n",
        "We will now create the Vocabulary dictionary for the training data, the mappings from word to indices and vice-versa."
      ]
    },
    {
      "metadata": {
        "id": "FnbmrUAbVuR5",
        "colab_type": "code",
        "colab": {
          "autoexec": {
            "startup": false,
            "wait_interval": 0
          }
        }
      },
      "cell_type": "code",
      "source": [
        "from collections import Counter, defaultdict"
      ],
      "execution_count": 0,
      "outputs": []
    },
    {
      "metadata": {
        "id": "_DDjKgABVuSA",
        "colab_type": "text"
      },
      "cell_type": "markdown",
      "source": [
        "#### Create Vocabulary Dictionary"
      ]
    },
    {
      "metadata": {
        "id": "o6Sx3cuaVuSD",
        "colab_type": "code",
        "colab": {
          "autoexec": {
            "startup": false,
            "wait_interval": 0
          },
          "base_uri": "https://localhost:8080/",
          "height": 56
        },
        "outputId": "318ffe98-26ea-48be-8d73-ea2926b89b3c",
        "executionInfo": {
          "status": "ok",
          "timestamp": 1530187027847,
          "user_tz": -330,
          "elapsed": 1293,
          "user": {
            "displayName": "Susanta Biswas",
            "photoUrl": "//lh5.googleusercontent.com/-j4zod5jytCU/AAAAAAAAAAI/AAAAAAAAAMw/oM-QES-nuuY/s50-c-k-no/photo.jpg",
            "userId": "109162984466767800710"
          }
        }
      },
      "cell_type": "code",
      "source": [
        "word_counts = Counter()\n",
        "# we will use the top 11000 words for out dictionary only.\n",
        "for sentence in train_data:\n",
        "    words, tags = zip(*sentence)\n",
        "    word_counts.update(words)\n",
        "\n",
        "# take out the top words\n",
        "top_words = list(zip(*word_counts.most_common(11000)))[0]\n",
        "vocab = ['<EOS>','<UNK>'] + list(top_words) \n",
        "print(vocab)"
      ],
      "execution_count": 31,
      "outputs": [
        {
          "output_type": "stream",
          "text": [
            "['<EOS>', '<UNK>', 'the', ',', '.', 'of', 'and', 'to', 'a', 'in', 'that', 'is', 'was', 'he', 'for', 'it', '``', \"''\", 'as', 'with', 'his', 'on', 'be', ';', 'at', 'by', 'i', 'had', 'this', '?', 'not', 'are', 'but', 'from', 'or', 'have', 'an', 'they', 'which', '--', 'were', 'one', 'you', 'her', 'all', 'she', 'there', 'would', 'we', 'their', 'him', ')', '(', 'has', 'been', 'when', 'who', 'more', 'will', 'if', 'no', 'out', 'so', 'said', 'what', 'up', 'its', 'about', 'than', 'can', 'them', 'into', ':', 'only', 'other', 'new', 'some', 'these', '!', 'could', 'time', 'two', 'may', 'then', 'first', 'any', 'do', 'my', 'such', 'now', 'like', 'over', 'our', 'man', 'me', 'most', 'even', 'made', 'after', 'also', 'did', 'many', 'must', 'before', 'af', 'back', 'through', 'where', 'much', 'your', 'years', 'well', 'down', 'because', 'way', 'should', 'each', 'people', 'just', 'those', 'how', 'mr.', 'little', 'too', 'good', 'very', 'state', 'make', 'see', 'men', 'own', 'work', 'long', 'still', 'world', 'get', 'here', 'under', 'both', 'between', 'being', 'life', 'never', 'same', 'another', 'last', 'know', 'while', 'old', 'might', 'day', 'great', 'us', 'year', 'since', 'come', 'against', 'go', 'take', 'off', 'states', 'came', 'used', 'right', 'three', 'during', 'few', 'himself', 'american', 'place', 'house', 'use', 'without', 'again', 'however', 'around', 'mrs.', '1', 'found', 'small', 'home', 'thought', 'every', 'say', 'went', 'high', 'got', 'number', 'once', 'upon', 'united', 'school', 'does', 'part', 'general', \"don't\", 'war', 'left', 'fact', 'until', 'something', 'course', 'water', 'less', '2', 'think', 'away', 'better', 'always', 'put', 'though', 'took', 'public', 'system', 'enough', 'hand', 'head', 'far', 'end', 'yet', 'almost', 'night', 'government', 'set', 'why', 'asked', 'nothing', 'toward', 'point', 'called', 'look', 'president', 'young', 'city', 'give', \"didn't\", 'eyes', 'program', 'per', 'told', 'find', 'let', 'going', 'business', 'knew', 'rather', 'later', 'days', 'social', 'second', 'group', 'room', 'next', 'important', 'often', 'given', 'possible', 'side', 'children', 'form', 'john', 'several', 'face', 'order', 'things', 'case', 'among', 'looked', 'white', 'large', 'early', 'national', 'present', 'felt', 'best', 'church', 'ever', 'become', 'big', 'within', 'need', 'along', 'saw', 'power', 'four', 'thing', 'least', \"'\", 'development', 'seemed', 'interest', 'area', 'family', 'although', 'others', 'mind', 'want', 'light', 'god', 'help', 'problem', 'done', 'service', 'thus', 'kind', 'members', 'turned', 'began', 'perhaps', 'whole', 'certain', 'door', 'sense', 'open', 'different', 'means', \"it's\", 'law', 'york', 'country', 'name', 'times', 'itself', 'example', 'matter', 'line', 'above', 'show', 'either', 'history', 'having', 'gave', 'human', 'quite', 'seen', 'already', 'across', '3', 'whether', 'company', 'feet', 'action', 'death', 'act', 'hands', 'really', 'past', 'five', 'week', 'today', 'tell', 'half', 'keep', 'word', 'words', 'college', 'local', 'sure', 'together', 'experience', 'field', 'money', 'anything', \"i'm\", 'shall', 'body', 'real', 'period', 'making', 'question', 'seems', 'information', 'taken', 'held', 'free', 'miss', 'car', 'themselves', 'whose', 'ago', 'political', 'office', 'cannot', 'problems', 'boy', 'study', 'available', 'moment', 'position', 'society', 'major', 'probably', 'brought', 'reason', 'became', 'am', 'individual', 'behind', 'result', 'change', 'federal', 'west', 'air', 'force', 'heard', 'south', 'areas', 'known', 'court', 'special', 'economic', 'control', 'department', 'feel', 'street', 'woman', 'seem', 'community', 'following', 'board', 'turn', 'close', 'voice', 'wife', 'front', 'job', 'cost', 'students', 'necessary', 'center', 'evidence', 'further', 'love', 'figure', 'sometimes', 'policy', 'total', 'wanted', 'true', 'land', 'common', 'child', 'university', 'million', 'north', '4', 'stood', 'effect', 'future', 'class', 'run', 'able', 'therefore', 'provide', 'party', 'short', 'art', 'plan', 'mother', 'near', 'girl', 'full', 'music', 'morning', 'level', 'clear', 'age', 'rate', 'education', 'usually', 'outside', 'idea', 'increase', 'century', 'town', 'personal', 'peace', 'various', 'military', 'gone', 'hard', 'mean', 'says', 'surface', 'cut', 'alone', 'value', 'tax', 'women', 'washington', 'six', 'black', 'sound', 'soon', 'situation', 'leave', 'type', 'nor', 'dark', 'top', 'process', 'modern', 'lines', 'table', 'longer', 'america', 'minutes', 'basis', 'greater', 'dr.', 'person', 'needed', 'wrote', 'strong', 'play', 'english', 'third', 'view', 'believe', 'red', 'started', 'finally', 'nature', \"that's\", 'values', 'particular', 'private', 'road', 'union', 'schools', 'living', 'ground', 'east', 'book', 'except', 'late', 'brown', '1960', 'spirit', 'hope', 'pressure', 'subject', 'section', 'coming', 'space', 'tried', 'everything', 'father', 'kept', 'expected', 'taking', 'conditions', 'low', 'forces', 'industry', 'report', 'getting', \"i'll\", 'complete', 'secretary', 'stage', 'hours', 'research', 'costs', 'months', 'feeling', 'inside', 'fire', 'single', 'simply', 'data', 'call', 'recent', 'cold', 'lost', 'river', 'basic', 'move', 'looking', \"couldn't\", 'medical', 'read', 'instead', 'hold', 'including', 'sort', 'beginning', 'moved', 'live', 'required', 'else', 'cent', 'followed', 'actually', 'amount', 'ten', 'makes', 'religious', 'nations', 'attention', 'pay', 'heart', 'property', 'trying', 'dead', 'st.', 'passed', 'final', 'committee', 'hundred', 'added', 'island', 'wall', \"can't\", 'reached', 'simple', 'higher', 'support', '&', 'indeed', 'increased', 'fine', 'material', 'defense', 'shown', 'beyond', 'care', 'floor', 'building', 'hall', 'answer', 'issue', 'return', 'natural', 'bring', 'countries', 'difficult', 'equipment', 'developed', 'central', 'friends', 'rest', 'difference', 'administration', 'meeting', 'picture', 'involved', 'hear', 'william', 'miles', 'training', 'terms', 'range', 'doing', 'growth', 'needs', 'whom', 'suddenly', 'neither', 'received', 'walked', 'reading', 'club', 'using', 'earlier', 'production', 'son', 'food', 'purpose', 'stock', 'working', 'county', 'talk', 'labor', 'earth', 'boys', 'directly', 'story', 'especially', 'fall', 'blue', 'results', 'according', 'hour', 'cases', 'bad', 'physical', 'happened', 'services', 'market', 'foreign', 'method', 'kennedy', 'normal', 'entire', \"you're\", 'stand', 'sat', 'methods', 'addition', '5', \"wasn't\", 'strength', 'below', 'start', 'england', 'certainly', 'police', 'sent', 'decided', 'written', 'considered', 'deal', 'u.s.', 'student', 'due', 'international', 'hair', 'moral', '10', 'sales', 'knowledge', 'similar', 'trade', 'square', 'likely', 'points', 'ready', 'girls', 'meet', 'letter', 'paper', 'paid', 'congress', 'army', 'size', 'christian', 'george', 'trial', 'comes', 'particularly', 'industrial', 'french', 'anyone', 'showed', 'nearly', 'member', 'ideas', 'bill', 'population', 'weeks', 'questions', 'nation', 'western', 'effort', 'throughout', 'cause', 'worked', 'literature', 'color', 'continued', 'yes', 'thinking', 'theory', 'appeared', 'statement', 'hot', 'record', 'remember', 'hotel', 'science', '1961', 'friend', 'month', 'feed', 'series', 'myself', 'lay', 'generally', 'plant', 'clearly', 'treatment', 'systems', 'influence', 'j.', 'summer', 'husband', 'consider', 'lead', 'southern', 'fiscal', 'changes', 'ways', 'described', 'stopped', 'try', 'wrong', 'led', 'beautiful', 'chance', 'evening', 'maybe', \"wouldn't\", 'spring', 'soviet', 'temperature', 'note', 'association', 'merely', 'understand', 'piece', 'programs', 'lot', 'ran', 'works', 'degree', 'organization', 'effective', 'list', 'lower', 'opened', 'fear', 'truth', 'manner', 'provided', 'aid', 'numbers', 'determined', 'trouble', 'couple', 'district', 'progress', 'volume', 'activity', 'blood', 'served', 'types', 'former', 'movement', 'forms', 'respect', 'horse', 'planning', 'recently', 'average', 'performance', 'reaction', 'ask', 'step', 'de', 'farm', 'europe', 'opportunity', 'based', 'direction', 'freedom', 'somewhat', 'c', 'herself', 'larger', \"he's\", 'concerned', 'placed', 'efforts', 'met', 'easy', 'gun', 'press', 'middle', 'religion', \"man's\", 'groups', 'serious', 'main', 'appear', 'test', 'meaning', 'wide', 'oh', 'daily', 'green', 'saying', 'direct', 'responsibility', 'game', 'staff', 'apparently', 'technical', 'approach', 'chief', 'immediately', 'learned', 'quality', 'specific', 'income', 'charge', 'choice', 'bed', 'born', 'running', 'stop', 'additional', 'aj', 'applied', 'returned', 'slowly', 'eye', 'activities', 'british', 'serve', 'plane', 'design', 'obviously', 'image', 'understanding', 'whatever', 'steps', 'pattern', 'language', 'stay', 'persons', 'visit', 'obtained', 'account', \"i've\", 'completely', 'include', 'poor', 'scene', 'deep', 'carried', '30', 'extent', 'audience', 's.', 'shot', '6', '15', 'character', 'a.', 'agreement', 'analysis', 'straight', 'price', 'window', 'parts', 'negro', 'lack', 'clay', 'arms', 'corner', 'moving', 'standard', 'distance', 'reasons', 'forward', 'raised', 'designed', 'length', 'prepared', 'cars', 'seven', 'function', 'lived', 'growing', 'cities', \"i'd\", 'existence', 'news', 'reported', 'ahead', 'firm', 'writing', 'principle', 'established', 'b', 'becomes', 'knows', 'sun', 'justice', 'suggested', 'proper', 'figures', 'letters', 'remained', 'importance', 'meant', 'rhode', 'continue', 'hospital', 'radio', 'doubt', 'speak', 'stress', 'nuclear', 'hit', 'professional', 'march', 'race', 'interested', '8', 'none', 'latter', 'afternoon', 'operation', 'sunday', 'mouth', 'corps', 'faith', 'happy', 'station', 'products', 'limited', 'role', 'season', 'pretty', 'drive', \"there's\", 'hardly', 'practice', 'communist', 'gives', 'concern', 'unit', 'waiting', 'status', 'division', 'ones', 'exactly', 'determine', 'attitude', 'facilities', 'elements', 'radiation', 'poet', 'closed', 'james', 'worth', 'chicago', 'construction', 'decision', 'june', 'studies', 'attack', 'despite', 'health', 'film', 'plans', 'played', 'style', 'playing', 'heat', 'reach', 'heavy', 'standing', 'sign', '1959', 'married', 'eight', 'talking', 'date', 'primary', 'events', 'behavior', 'rates', 'covered', 'sir', 'suppose', 'structure', 'expect', 'original', 'conference', 'officer', 'supply', 'current', 'opinion', 'effects', 'pool', 'charles', 'demand', 'mass', 'obvious', 'changed', 'dollars', 'success', 'easily', 'walk', 'thomas', 'filled', 'hell', 'built', 'books', 'share', 'management', 'bit', 'commission', 'council', 'records', 'machine', 'bridge', 'marriage', 'wish', 'rise', 'director', 'frequently', 'touch', 'highly', 'dinner', 'indicated', 'teeth', 'considerable', 'americans', \"won't\", 'unless', 'included', 'doctor', 'places', 'write', 'thousand', 'jazz', 'dropped', 'spent', 'usual', \"isn't\", 'techniques', 'everyone', 'institutions', 'popular', 'ball', 'arm', 'cattle', 'pieces', 'equal', '7', 'claim', 'related', 'gas', 'park', 'democratic', 'sides', 'factors', 'thin', 'active', 'project', 'christ', 'glass', 'complex', 'accepted', 'significant', 'spoke', 'condition', 'actual', 'rose', 'tradition', 'entered', 'patient', 'allowed', 'civil', 'caused', 'oil', \"he'd\", 'kitchen', 'leaders', 'product', 'discussion', 'attempt', 'someone', 'leadership', 'spread', 'sitting', 'produced', 'fell', 'materials', 'aware', \"hadn't\", 'king', 'quickly', 'philosophy', 'published', 'failure', 'weight', 'principal', 'giving', 'funds', 'energy', 'facts', 'follow', 'battle', 'finished', 'authority', 'relations', 'churches', 'pass', 'shows', 'london', \"you'll\", 'c.', 'successful', 'corporation', '12', 'sea', 'possibility', '1958', 'musical', 'remain', 'laws', 'fixed', 'trees', 'security', 'mike', 'goes', '20', 'workers', 'loss', 'cover', \"doesn't\", 'units', 'remembered', 'fight', 'entirely', 'assistance', 'jack', 'henry', 'break', 'caught', 'german', 'concept', 'sources', 'post', 'greatest', 'circumstances', 'interesting', 'announced', 'bank', 'pain', 'variety', 'requirements', 'e.', 'proposed', 'classes', 'require', 'lord', 'stated', 'sight', 'enemy', 'bottom', 'features', 'scientific', 'carefully', 'gray', 'wait', 'regard', 'mary', 'older', 'balance', 'operating', 'parents', 'otherwise', 'develop', 'previous', 'key', 'objective', 'check', 'poetry', 'inches', 'recognized', 'leaving', 'seeing', 'broad', 'died', 'annual', 'offered', 'interests', 'measure', 'speed', 'purposes', 'source', 'names', 'yesterday', 'increases', 'fully', 'teacher', 'carry', 'presented', 'instance', 'robert', 'officers', 'rules', 'created', 'base', 'capacity', 'watch', 'manager', 'distribution', 'moreover', 'add', 'bright', 'coffee', 'edge', 'citizens', 'apartment', 'winter', 'collection', 'enter', 'appears', 'address', 'train', 'regular', 'response', 'stations', 'marked', '-', 'poems', 'sex', 'financial', 'strange', 'relationship', 'clothes', 'affairs', 'reports', 'houses', 'campaign', 'governor', 'beside', 'companies', 'immediate', 'bar', 'takes', 'shape', 'slightly', 'traditional', 'expression', 'remains', 'catholic', 'economy', 'w.', 'relatively', 'prevent', 'begin', 'crisis', 'forced', 'mark', 'secret', 'noted', 'looks', 'youth', 'providence', 'atmosphere', 'stayed', 'germany', 'dance', 'trip', 'fresh', 'lady', 'essential', 'claims', 'indicate', 'index', 'watched', 'team', 'writers', 'neck', 'favor', 'subjects', 'expressed', 'dog', 'reduced', 'writer', 'ship', 'sharp', 'tone', 'mentioned', 'buildings', 'judge', 'produce', 'france', 'agreed', '100', 'russian', 'presence', 'murder', 'november', 'impossible', 'build', 'pointed', 'event', 'wants', 'captain', 'named', 'famous', 'twenty', 'believed', 'maximum', 'opposite', 'familiar', 'nine', 'observed', 'turning', 'literary', 'learn', 'everybody', 'lives', 'interior', 'capital', 'increasing', 'b.', 'song', 'separate', 'fair', '25', 'formed', 'mission', 'universe', 'killed', 'quiet', 'sam', 'model', 'boat', 'failed', 'difficulty', 'h.', 'procedure', 'knife', 'junior', 'fund', 't', 'provides', 'brief', 'picked', 'clean', 'receive', 'china', 'laid', 'master', 'waited', 'fast', 'proved', 'cells', 'historical', 'levels', 'session', 'individuals', 'adequate', 'sweet', 'vote', 'offer', 'settled', 'jewish', 'operations', 'fields', 'membership', 'wonder', 'drawn', 'du', 'contrast', 'legal', 'telephone', 'smaller', 'planned', 'jones', 'animal', 'rights', 'store', \"let's\", 'assumed', 'communism', 'discovered', 'rome', 'ordered', 'faculty', 'independence', 'follows', 'explained', 'communication', 'bottle', 'pulled', 'file', 'personnel', 'smiled', 'ancient', 'term', 'russia', 'rule', 'willing', 'frame', 'characteristic', 'reality', 'title', 'anode', 'official', 'factor', 'lips', 'exchange', 'discussed', 'principles', 'send', 'berlin', 'fighting', 'significance', 'rock', 'nevertheless', 'faces', 'unity', 'vocational', 'round', 'resources', 'valley', 'wine', 'studied', 'village', 'opening', 'carrying', 'standards', 'liberal', 'chosen', 'positive', 'search', 'twice', 'solid', 'differences', 'virginia', 'independent', 'danger', 'treated', 'flat', 'plays', 'beat', 'leader', 'region', \"she'd\", 'birth', 'nice', 'daughter', 'fourth', 'hearing', 'impact', 'sections', 'permit', 'watching', 'page', 'jury', 'dogs', 'assume', 'capable', 'somehow', 'helped', 'memory', 'occurred', 'naturally', 'rich', 'beauty', 'chapter', 'practical', 'realized', 'initial', 'drink', 'policies', 'besides', 'platform', 'ourselves', 'aircraft', 'jobs', 'contact', 'fit', 'escape', 'primarily', 'frank', 'fifty', 'revolution', 'accept', 'evil', 'excellent', 'gain', 'honor', 'editor', 'desire', 'hanover', 'july', \"you've\", 'p', 'orchestra', 'ability', 'largely', 'employees', 'shelter', 'answered', 'louis', 'prices', 'compared', 'upper', 'electronic', 'projects', 'command', 'passing', 'box', 'column', 'league', 'election', 'gross', 'ordinary', 'contemporary', 'warm', 'saturday', 'typical', 'constant', 'directed', 'jr.', 'camp', 'legs', 'thick', 'wilson', 'signs', 'spiritual', 'associated', 'educational', 'responsible', 'gets', 'dominant', 'career', \"they're\", 'mercer', 'rain', 'ought', 'experiment', 'hill', 'detail', 'cutting', 'chemical', 'connection', 'block', 'relation', 'estimated', 'imagine', 'chairman', 'paris', 'quick', 'die', 'emotional', 'december', 'fellow', 'texas', 'horses', 'aspects', 'aside', 'join', 'weather', 'morgan', 'starting', 'items', 'grew', 'dream', 'yourself', 'phil', 'f.', 'empty', 'selected', 'plus', 'greatly', 'potential', 'minister', 'monday', 'properties', 'advantage', 'grow', 'happen', 'organizations', 'broke', 'calls', 'rapidly', 'article', 'richard', 'fig.', 'competition', 'ends', 'sit', 'electric', 'kid', 'teachers', 'explain', 'dramatic', 'desk', 'substantial', 'shore', 'san', 'declared', 'unusual', 'asking', 'completed', 'achieved', '50', 'protection', 'dust', 'fashion', 'signal', 'bodies', 'nobody', 'dry', 'culture', 'goal', 'pictures', 'buy', 'shop', 'appeal', 'allow', 'metal', 'arrived', 'brother', 'teaching', 'r.', 'tests', 'wore', 'permitted', 'roads', 'application', 'argument', 'powers', 'drove', 'recognize', 'd.', 'approximately', 'tree', 'commercial', 'kill', 'drew', 'ideal', 'library', 'cell', 'conclusion', 'khrushchev', 'maintenance', 'matters', 'billion', 'grounds', 'struggle', 'courses', 'walls', 'april', 'newspaper', 'reasonable', 'rifle', 'location', 'finds', 'baby', 'continuing', 'sensitive', 'object', 'located', 'chair', 'leading', 'ended', 'headquarters', 'credit', 'previously', 'internal', 'p.m.', 'towards', 'providing', 'rising', 'seek', 'feelings', 'understood', '9', 'rooms', 'stands', 'closely', 'phase', 'traffic', 'imagination', 'existing', 'officials', 'greek', 'actions', 'sufficient', 'avoid', 'learning', 'walking', 'dress', 'domestic', 'text', 'reduce', 'remove', 'formula', 'politics', 'acting', 'refused', 'sets', 'plants', 'broken', 'palmer', 'portion', 'possibly', 'holding', 'repeated', 'intellectual', 'beneath', 'exist', 'careful', 'somebody', 'statements', 'hung', 'background', 'objects', 'somewhere', 'tension', 'trained', 'inner', 'processes', 'occasion', 'attorney', 'putting', 'arts', 'realize', 'advance', 'governments', 'message', 'onto', 'beach', 'reference', 'families', 'technique', 'setting', 'ultimate', 'laos', 'parker', 'belief', 'informed', 'supported', 'details', \"we'll\", 'tom', 'relief', 'dictionary', 'site', 'generation', 'please', 'forth', 'intensity', 'element', 'homes', 'flow', 'fairly', 'streets', 'achievement', 'charged', \"one's\", 'railroad', 'orders', 'resolution', 'speaking', 'equally', 'components', 'unable', 'vital', 'flowers', 'vision', 'u.', 'symbol', 'novel', 'appropriate', 'cool', 'replied', 'talked', 'closer', 'highest', 'm.', 'becoming', 'guests', 'friendly', 'contract', 'guess', 'issues', 'busy', 'solution', 'congo', 'truly', 'eat', 'california', 'thoughts', 'moon', 'dallas', 'forest', 'stared', 'safe', 'struck', 'save', 'sexual', 'scale', 'wage', 'vast', 'risk', 'travel', 'pleasure', 'interpretation', 'double', 'minds', 'victory', 'bible', 'represented', 'sleep', 'review', 'concerning', 'coast', 'spot', 'lose', 'uses', 'truck', 'exercise', 'notice', 'depth', 'friday', 'foot', 'afraid', 'snow', 'pale', 'divided', 'sky', 'minor', 'critical', 'conduct', 'artist', 'heavily', 'task', 'hat', 'removed', '14', 'apply', 'experiments', 'garden', 'spite', 'britain', 'fingers', 'budget', 'developing', 'create', 'faced', 'wondered', 'september', '18', 'circle', 'fat', 'republican', 'organized', 'agency', 'maintain', 'etc.', 'soldiers', 'apparent', 'powerful', 'stories', 'procedures', 'measured', 'speech', 'housing', 'enjoyed', 'tomorrow', 'sounds', 'yards', 'cross', 'properly', 'supposed', 'wood', 'agencies', 'joseph', 'brilliant', 'nose', 'pick', 'prove', 'negative', 'shook', 'armed', 'duty', 'positions', 'boston', 'shoulders', 'artists', 'negroes', 'device', 'lie', 'detailed', 'stone', 'sought', 'contained', 'preparation', 'january', 'introduced', 'publication', 'soft', 'taste', 'sin', 'entrance', 'crowd', 'smith', 'institute', 'appearance', 'parties', 'machines', 'extreme', 'motor', 'practices', 'assignment', 'machinery', 'goods', 'p.', 'establish', 'worry', 'theater', 'wished', 'painting', 'absence', 'no.', 'shoulder', 'seat', 'animals', 'joe', 'artery', 'conducted', 'guy', 'rural', 'liked', 'jesus', 'drop', 'bay', 'bought', 'extended', 'devoted', 'emphasis', 'combination', 'lewis', 'firms', 'attend', 'showing', 'wind', 'surprised', 'tuesday', 'boats', 'begins', 'wild', 'entitled', 'welfare', 'score', 'chest', 'songs', 'win', 'senate', 'award', 'uncle', 'india', 'neighborhood', 'cultural', 'description', 'widely', 'correct', 'theme', 'roof', 'hence', 'keeping', 'notes', 'sample', 'demands', 'detective', 'extremely', 'hudson', 'ride', 'begun', 'perfect', 'mine', 'useful', 'bear', 'slow', 'causes', 'dear', 'expansion', 'won', 'european', 'centers', 'requires', 'games', 'evident', 'administrative', 'experienced', 'functions', 'identity', 'shooting', 'suggest', 'troops', 'draw', 'sold', 'u.n.', 'phone', 'disease', 'views', 'sheet', 'forget', 'wet', 'l.', 'cousin', 'judgment', 'achieve', 'eisenhower', 'millions', 'fears', 'weapons', 'loved', 'advanced', 'contrary', 'regarded', 'minute', 'los', 'motion', 'sick', 'assembly', \"ain't\", 'headed', 'granted', 'establishment', 'commerce', 'fort', 'precisely', 'relative', 'improved', 'tendency', 'spend', 'angle', 'roman', 'hoped', 'item', 'sports', 'fifteen', 'path', 'band', 'till', 'finding', 'confidence', 'executive', 'hole', 'comparison', 'television', 'bedroom', 'hills', 'investigation', 'conflict', 'warren', 'dozen', 'pure', 'jews', 'tall', 'mile', 'missile', 'conventional', 'wheel', 'stages', 'measurements', 'holy', 'throat', 'soil', '11', 'pushed', 'academic', 'laughed', 'rear', 'thirty', 'offices', 'version', 'noticed', 'advice', 'towns', 'indian', 'childhood', 'narrow', 'chinese', 'completion', 'gold', 'windows', \"we're\", '16', 'expense', 'passage', 'mail', 'bitter', 'nearby', 'content', 'loose', 'telling', 'hero', '60', 'referred', 'plenty', 'player', 'slight', 'yellow', 'extra', 'desired', 'situations', 'driving', 'fill', 'trust', 'partly', \"what's\", 'drinking', 'd', 'waves', 'ages', 'driver', 'david', 'protestant', 'grass', 'japanese', 'decisions', 'arthur', 'professor', 'attitudes', 'boards', 'unique', 'martin', 'incident', 'tiny', 'leg', 'chain', 'instrument', 'warning', 'colors', 'approval', 'payment', 'baseball', 'female', 'smile', 'foods', 'surprise', 'handle', 'benefit', 'discovery', 'pull', 'practically', 'limit', 'identified', 'wagon', 'centuries', 'luck', 'superior', 'vehicles', 'screen', 'welcome', 'taught', 'alfred', '24', 'opportunities', 'elections', 'papers', 'agent', 'minimum', 'exists', 'intelligence', 'convinced', 'listen', 'panels', 'efficiency', 'suit', 'request', 'raise', 'measures', 'conviction', '1957', 'breakfast', 'philadelphia', 'lucy', 'stream', 'examples', 'lifted', 'lies', 'supplies', 'acceptance', 'moscow', 'confusion', 'uniform', 'lights', 'silence', 'civilization', 'employed', 'operator', 'prior', 'northern', 'consideration', 'birds', 'creative', 'august', 'prime', 'mention', 'universal', 'employment', 'moments', 'dollar', 'remarkable', 'destroy', 'co.', 'explanation', 'alexander', 'la', 'acres', 'weakness', 'breath', 'periods', 'agree', 'pocket', 'eventually', 'plain', 'everywhere', 'payments', 'deny', 'representative', 'flight', 'rolled', 'characteristics', 'surely', 'milk', 'suffering', 'edward', 'motors', 'personality', 'marine', 'maintained', 'majority', 'target', 'soul', 'riding', 'developments', 'marketing', 'improvement', 'vice', 'angeles', 'wearing', 'arranged', 'oxygen', 'engine', 'wages', 'liquid', 'wright', 'concrete', 'singing', 'leaves', 'largest', 'believes', 'confused', 'supreme', 'native', 'sorry', 'hearst', 'journal', 'anywhere', 'hopes', 'insisted', 'joined', 'losses', 'engaged', 'guard', 'bound', 'terrible', 'lincoln', 'conscious', '13', 'rapid', 'reaching', 'odd', 'italian', 'dirt', 'impressive', 'firmly', 'choose', 'adopted', 'bonds', 'concerns', 'containing', 'skin', 'burning', 'february', 'huge', 'quietly', 'worse', 'encourage', 'thickness', 'virtually', 'pink', '21', 'honest', 'estate', 'fought', 'continuous', 'massachusetts', 'movements', 'glance', 'blind', 'elsewhere', 'urban', 'distinct', 'comment', 'precision', 'opera', 'trend', 'thousands', 'automobile', 'spirits', \"'em\", 'adams', 'via', 'silent', 'shoes', 'essentially', 'lake', 'admitted', 'smooth', 'opposition', 'violence', 'charges', 'saved', 'hundreds', 'depend', 'i.e.', 'alive', 'necessarily', 'answers', 'extensive', 'remarks', 'crossed', 'courts', 'october', 'fiction', 'loan', 'issued', 'conversation', 'easier', 'flesh', 'throw', 'swung', 'doctrine', 'origin', 'experiences', 'patterns', 'changing', 'royal', 'touched', 'avenue', 'fun', 'pike', 'catch', 'brush', 'considering', 'enjoy', 'electrical', 'manufacturers', 'legislation', 'mold', 'approached', 'cook', 'insurance', 'tragedy', 'advertising', 'dangerous', 'nineteenth', 'assigned', 'wooden', 'recommended', 'creation', 'tool', 'spending', 'environment', 'interference', 'hans', 'cast', 'transportation', 'cloth', 'testimony', 'tables', 'mantle', 'models', 'contain', 'resulting', 'tired', 'seriously', 'promise', 'shouted', 'count', 'constitution', 'cuba', 'tissue', 'increasingly', 'cup', 'wonderful', 'recorded', 'runs', 'vacation', 'porch', 'a.m.', 'personally', 'grace', 'dancing', 'appointed', 'speaker', \"she's\", '23', 'decade', 'external', 'nodded', 'gradually', 'feels', 'curious', 'q', 'medium', 'illinois', 'wisdom', 'fired', 'sum', 'wire', 'anger', 'cry', 'shared', 'expenditures', 'operate', 'recreation', 'qualities', 'georgia', 'residential', 'pounds', 'adam', 'darkness', 'teach', 'driven', 'readers', 'opinions', 'threw', 'fail', 'wave', 'author', 'brain', 'slaves', 'anne', 'unknown', 'muscle', 'match', 'readily', 'recognition', 'limits', 'societies', 'thoroughly', 'represent', 'seeds', 'relationships', 'particles', 'mama', 'helping', 'obtain', 'expenses', 'curve', 'amounts', 'waters', 'depends', 'occasionally', 'reduction', 'listed', 'calling', 'funny', 'provision', 'tour', 'seeking', 'pilot', 'occur', 'valuable', 'anyway', 'studying', 'ballet', 'suffered', 'liquor', 'trials', 'steel', 'pride', 'mere', 'abroad', 'fundamental', 'formal', 'percentage', 'denied', 'accomplished', 'threat', 'shut', 'pennsylvania', 'apart', 'integration', 'taxes', 'rarely', 'reactions', 'diameter', 'sell', 'raw', 'recall', 'storage', 'congregation', 'twelve', 'bread', 'golden', 'observations', 'coat', 'combined', 'percent', 'engineering', 'introduction', 'stairs', 'brothers', 'grown', \"father's\", 'ease', 'happens', 'hate', 'asia', 'difficulties', 'emotions', 'salt', 'participation', 'favorite', 'concert', 'tend', 'sake', 'lots', 'offers', 'regions', 'senator', 'snake', 'carl', 'latin', 'reader', 'bars', 'papa', 'fed', 'whereas', 'strike', 'safety', 'promised', 'n', 'technology', 'musicians', 'sale', 'excess', 'joy', 'release', 'charlie', 'objectives', 'ring', 'watson', 'composed', 'expensive', 'removal', 'images', 'tv', 'describe', 'prison', 'patent', 'shift', 'lawrence', 'arrangements', 'fellowship', 'eleven', 'manchester', 'finger', 'finish', 'grand', 'ships', 'seed', 'contribute', 'democrats', 'knowing', 'legislature', 'sees', 'gained', 'downtown', 'conclusions', 'mounted', 'pleased', 'younger', 'foam', 'opposed', 'kate', 'holds', 'organic', 'e', 'rough', 'route', 'illustrated', 'unlike', 'shares', 'random', 'guidance', 'palace', 'focus', 'henrietta', 'indicates', 'washing', 'provisions', 'revealed', 'transfer', 'selection', 'attended', 'errors', 'pair', 'lovely', 'attractive', 'grant', 'handed', 'resulted', 'concentration', 'aspect', 'winston', 'turns', 'mental', 'atom', 'anybody', 'writes', 'liberty', 'resistance', 'thompson', 'emergency', 'brings', 'prominent', 'neutral', 'visual', 'bureau', 'distinguished', 'dealing', 'mayor', 'walter', 'code', 'mankind', 'guest', 'criticism', 'edition', 'anxiety', 'constantly', 'rachel', 'republic', 'atoms', 'sequence', 'equivalent', 'instructions', 'meat', 'salary', 'fifth', 'destruction', 'reply', 'discover', 'assumption', 'express', 'volumes', 'handling', 'desegregation', 'hurry', 'bills', 'banks', 'drunk', 'assured', 'aim', 'tells', '40', 'robinson', 'bag', \"state's\", 'contains', 'numerous', 'psychological', 'visited', 'briefly', 'shear', 'mad', 'thank', 'laboratory', 'accompanied', 'iron', 'disappeared', 'stranger', 'preserve', 'heaven', 'drama', 'africa', 'arc', 'parallel', '1954', 'mood', 'lawyer', 'orleans', 'outstanding', 'forever', 'representatives', 'temple', 'variable', 'g.', 'remaining', 'assistant', 'jumped', 'staining', 'impression', 'chlorine', 'existed', 'guns', 'columns', 'warfare', 'glad', 'atlanta', 'cooling', 'kinds', 'devices', 'sister', 'license', 'paul', 'consists', 'striking', 'primitive', 'identification', 'affected', '1962', 'permanent', 'experts', 'calm', 'fool', 'weapon', 'enormous', 'satisfactory', 'afford', 'customers', 'agents', 'producing', 'nationalism', 'improve', 'cleaning', 'distant', 'plot', 'atlantic', 'dean', 'forgotten', 'returning', 'effectively', 'reflected', 'poem', 'urged', 'pope', 'collected', \"world's\", 'bond', 'susan', 'involves', 'automatically', 'navy', 'varied', 'jane', 'proposal', 'estimate', '17', 'feature', 'comparable', 'pace', 'purchase', 'worried', 'steady', 'mystery', 'conscience', 'treasury', 'acts', \"you'd\", 'skill', 'foundation', 'alternative', 'engineer', 'whenever', \"year's\", 'intense', 'humor', 'track', 'ohio', 'definition', 'fish', '22', 'notion', 'soldier', 'proud', 'considerably', 'rayburn', 'sufficiently', 'load', 'dressed', 'mostly', 'authorities', 'printed', 'equation', 'demanded', 'chamber', 'presumably', 'tears', 'sudden', 'schedule', 'muscles', 'exception', 'visiting', 'smoke', 'magic', 'bomb', 'knees', 'tends', 'contributed', 'separated', \"aren't\", 'comfort', 'managed', 'vehicle', 'continues', 'camera', 'dignity', 'communities', 'possibilities', 'atomic', 'stored', 'stick', 'holes', 'allotment', 'examine', 'chicken', 'paint', 'succeeded', 'bringing', 'normally', 'processing', 'patients', 'varying', 'filed', '31', 'definite', 'suitable', 'hunting', 'binomial', 'intended', 'piano', 'latest', 'belong', 'concluded', 'instant', 'stomach', 'swimming', 'ice', 'hydrogen', 'regarding', 'missed', 'angry', 'demonstrated', 'fate', 'harold', 'phenomenon', 'communists', 'sciences', 'controlled', 'hardy', 'peter', 'inevitably', 'presently', 'thanks', 'arrangement', 'weak', 'mobile', 'beer', 'comedy', 'includes', 'colonel', 'probability', 'goals', 'languages', 'long-range', 'smiling', 'defined', 'meanwhile', 'formation', 'canada', 'rode', 'mountains', 'inch', 'ears', 'push', 'automatic', 'japan', 'similarly', 'scheduled', 'dispute', 'cotton', 'bob', 'presentation', 'guilt', 'corresponding', 'roy', 'advised', 'jim', 'crime', 'copy', 'editorial', 'openly', 'display', 'pressures', 'peoples', 'output', 'onset', 'decades', 'covers', 'accident', 'furniture', 'strongly', 'edges', 'lee', 'andy', 'harbor', 'swift', 'identical', 'circles', 'newspapers', 'admission', 'heads', 'painted', 'matsuo', 'represents', 'harmony', 'burst', 'queen', 'myth', 'precise', 'serves', 'supper', 'adjustment', 'reception', 'accounts', 'distinction', \"o'clock\", 'determination', 'maris', 'talent', 'burden', 'illusion', 'clouds', 'tonight', 'decide', 'deeply', 'scholarship', 'profession', 'sharply', 'innocent', 'presents', 'pathology', 'phrase', 'context', 'stems', 'destroyed', 'italy', 'f', 'specifically', 'assure', 'guide', 'worst', \"today's\", 'counties', 'sympathetic', 'core', 'occupied', 'severe', 'replaced', \"nation's\", 'washed', 'helps', 'virgin', 'blocks', 'sleeping', 'symbols', 'fewer', 'holmes', 'attempts', 'seldom', 'owner', 'football', 'duties', 'logical', 'symphony', 'cooking', 'thyroid', 'axis', 'neighbors', 'reporters', 'stepped', 'colleges', 'survival', 'unfortunately', 'yield', 'roll', \"haven't\", 'hurt', 'switch', 'approved', 'fishing', 'bent', 'accordingly', 'grave', 'restaurant', 'effectiveness', 'waste', 'voices', 'marks', 'mature', 'contribution', 'museum', 'retired', 'calculated', 'r', \"we've\", 'cash', 'historian', 'dirty', 'bus', 'forty', 'substantially', 'attempted', 'van', 'mixed', 'drawing', 'deeper', 'jess', 'sing', 'sacred', 'districts', 'pleasant', 'mistake', 'eggs', 'interview', 'plastic', 'electronics', 'listening', 'intention', 'gift', 'wise', 'spanish', 'authorized', 'accurate', 'involving', 'isolated', 'regional', 'shadow', 'alert', 'badly', 'raising', 'joint', 'climbed', 'keys', 'nights', 'magazine', 'rejected', 'sounded', 'smell', 'temporary', 'campus', 'revenue', 'meets', 'frequencies', 'colored', 'gorton', 'farther', 'lumber', 'inadequate', 'reserve', 'mechanical', 'stronger', 'performances', 'remark', 'connected', 'linda', 'crowded', 'testing', 'factory', 'eating', 'stretched', 'ocean', 'francisco', 'sovereign', 'spoken', 'derived', 'classical', 'controls', 'samuel', 'territory', 'agricultural', '200', 'crazy', 'pencil', 'perfectly', 'instances', 'stores', 'wear', \"mother's\", 'eastern', 'shapes', 'discussions', 'rice', 'promote', 'barely', \"child's\", '26', 'mississippi', 'questionnaire', 'branch', 'era', 'bronchial', 'strip', 'gathered', 'consumer', 'adjusted', 'exposed', 'tremendous', 'maturity', 'sending', 'stuff', 'symbolic', 'ethical', 'powder', 'handsome', 'legislative', 'characters', 'candidates', 'impressed', 'wedding', 'survey', 'coating', 'debate', 'cow', 'slavery', 'classic', 'divine', 'baker', 'curt', 'harvard', 'pont', 'bombs', 'shakespeare', 'depending', 'examination', 'frequent', 'moves', 'burned', 'healthy', 'damage', 'leaned', '19', 'necessity', 'dependent', 'blow', 'prince', 'damn', 'falls', 'cooperation', 'gate', 'successfully', 'male', 'stable', 'tongue', 'simultaneously', 'woodruff', 'elected', 'worthy', 'lightly', 'experimental', 'performed', 'filling', 'serving', 'horn', 'findings', 'harry', 'furthermore', \"we'd\", 'row', 'reasonably', 'chose', 'tough', 'decline', 'films', 'tied', 'over-all', 'facing', 'candidate', 'mountain', 'accuracy', 'consequences', 'articles', 'regardless', 'challenge', 'dartmouth', 'highway', 'owners', 'clark', 'utility', 'hoping', 'scotty', 'funeral', 'conception', 'suspect', 'leads', 'alex', 'bigger', 'poetic', 'wednesday', 'supplied', 'realistic', 'thrown', 'multiple', 'swept', 'jacket', 'genuine', 'scheme', \"god's\", \"they'd\", 'host', 'drying', 'tested', 'cried', 'scenes', 'secondary', 'ignored', 'network', 'matching', 'excessive', 'shouting', 'players', 'indians', 'shortly', 'sugar', 'beings', 'equipped', 'substance', 'checked', 'protect', 'thursday', 'v.', 'variation', 'crew', 'tape', 'jet', 'returns', 'remarked', 'russians', 'juniors', 'gesture', 'consciousness', 'consequently', 'complicated', 'gently', 'branches', 'artistic', 'softly', 'designs', 'shorts', 'lying', 'morse', 'split', 'plastics', 'fallout', 'cloud', 'virtue', 'ratio', 'suffer', 'financing', 'roles', 'desirable', 'textile', 'investment', 'observation', 'libraries', 'markets', 'survive', 'sharpe', 'pat', 'williams', 'pistol', 'composer', 'maid', 'supporting', 'outer', 'admit', 'johnny', 'measurement', 'ending', 'benefits', 'troubled', 'noise', 'error', 'owned', 'movie', 'movies', 'prayer', 'visitors', 'seventh', 'institution', 'species', 'specified', 'claimed', 'stanley', 'installed', 'solutions', 'enterprise', 'root', 'gentleman', 'listened', 'guilty', 'self', 'closing', 'questioned', 'reducing', 'excuse', 'reminded', 'considerations', \"they'll\", 'naval', 'outlook', 'determining', 'skywave', 'flying', 'remote', 'dan', 'ranging', 'prestige', 'affect', 'horizon', 'transition', 'vary', 'dimensions', 'carbon', 'naked', 'currently', 'ceiling', 'sept.', 'applying', 'excitement', 'lesson', 'emotion', 'creating', 'meetings', 'shots', 'unions', 'shade', 'comfortable', 'profound', 'tragic', 'romantic', 'ruled', 'industries', 'elaborate', 'locking', 'stem', 'strain', 'slipped', 'corn', 'prepare', 'partner', 'affair', 'so-called', 'thermal', 'dried', 'mud', 'receiving', 'efficient', 'proof', 'signed', 'limitations', 'eddie', 'fourteen', 'threatened', 'favorable', 'scientists', 'doors', 'graduate', 'suggestion', 'constructed', 'courage', 'selling', 'kids', 'net', 'visible', 'knocked', 'rare', 'golf', 'falling', 'roberts', 'absent', 'medicine', 'mixture', 'parked', 'measuring', 'yard', 'cents', 'dancer', 'purely', 'coal', 'occasional', 'mainly', 'fled', 'wash', 'fruit', 'e.g.', 'grade', 'worship', 'awareness', 'ladies', 'publicly', 'cellar', 'bird', 'barn', 'deliberately', 'establishing', 'n.', 'meals', 'hanging', 'optimal', 'furnish', 'winning', 'encouraged', 'legend', 'treat', 'tasks', 'associations', 'sponsored', 'occurrence', 'repeat', 'saline', 'roosevelt', 'diplomatic', 'ramey', 'satisfied', 'representing', 'ours', 'profit', 'magnetic', 'allowing', 'volunteers', 'initiative', 'frightened', 'prevention', 'cuts', 'nowhere', 'cure', 'magnitude', 'emission', 'citizen', 'missing', 'islands', 'sand', 'felix', 'gallery', 'franklin', 'rector', 'proportion', 'injury', 'dancers', 'household', 'commander', 'brannon', 'surfaces', 'crucial', 'delight', 'dying', 'regulations', 'tools', 'sherman', 'spots', '1953', 'louisiana', 'discipline', 'gay', 'engineers', 'quantity', 'poets', 'merit', 'advantages', 'structures', 'republicans', 'outcome', 'clerk', 'worker', 'aids', 'surprising', 'fees', 'seconds', 'losing', 'sarah', 'pages', 'argue', 'hughes', 'apparatus', 'wound', 't.', 'et', 'ear', 'abstract', 'radical', 'missiles', 'arise', 'billy', 'extend', 'enthusiasm', 'starts', 'reveal', 'subsequent', 'dates', 'skilled', 'perform', 'drugs', 'voted', 'letting', 'carleton', 'poland', 'premier', 'card', 'extension', 'counter', 'extraordinary', 'reflection', 'mills', 'judgments', 'stained', 'rushed', 'variables', 'howard', 'delivered', 'suggests', 'violent', 'paused', \"he'll\", 'absolutely', 'mighty', 'reform', 'commonly', 'literally', 'blanket', 'false', 'shoot', 'silver', 'studio', 'strictly', 'namely', 'enemies', 'jurisdiction', 'sympathy', 'roots', 'lists', 'sacrifice', 'exceptions', 'cards', 'laugh', 'frontier', 'slept', 'o', 'catholics', 'tube', 'glasses', 'customer', 'massive', 'defeat', 'traders', 'inevitable', 'gathering', 'poured', 'intervals', 'dealer', 'lonely', 'hated', 'mickey', 'chin', 'mysterious', 'quarter', 'warmth', 'flexible', 'urethane', 'snakes', 'peculiar', 'replace', 'frozen', 'shayne', 'transferred', 'precious', 'metropolitan', \"president's\", 'johnnie', 'newly', 'hal', 'lunch', 'pursuant', 'calendar', 'perspective', 'clayton', 'retirement', '1952', 'chances', '1956', 'o.', 'refer', 'finance', 'folk', 'widespread', 'allied', 'magnificent', 'veteran', 'upward', 'proposals', 'minimal', 'polynomial', 'allies', 'mechanism', 'prokofieff', 'doctors', 'electricity', 'innocence', 'invariably', 'petitioner', 'albert', 'charter', 'newport', 'festival', 'v', 'emerged', 'charm', 'pound', 'sang', 'competitive', 'mirror', 'myra', 'preceding', 'patchen', 'promptly', 'occurs', 'stretch', 'holder', 'passion', 'meal', 'wines', 'bore', 'freight', 'appointment', 'departments', 'presidential', 'wally', 'vigorous', 'paintings', 'insist', 'delicate', 'collective', 'density', 'offering', 'select', 'builder', 'trips', 'julia', 'eager', 'recalled', 'pulmonary', 'theatre', 'critics', 'confronted', 'humanity', \"women's\", 'pot', 'stockholders', 'oct.', 'bride', 'responses', 'ward', 'consisting', 'acquired', 'tossed', 'lighted', 'altogether', 'permits', 'peaceful', 'universities', 'compare', 'scope', 'fly', 'academy', 'advisory', 'settlement', 'recording', 'helpful', 'folklore', 'panel', 'suspicion', 'ranch', 'torn', 'concentrated', 'responsibilities', 'convention', 'combat', 'african', 'sweat', 'switches', 'prospects', 'justified', 'conservative', 'landing', 'fiber', 'irish', 'full-time', 'bone', 'lieutenant', 'expressing', 'gardens', 'pulling', 'blame', 'anti-trust', 'samples', 'exclusive', 'automobiles', 'd.c.', 'argued', 'cap', 'intelligent', 'butter', '1955', 'register', 'concepts', 'committed', 'nato', 'maintaining', 'electron', 'adults', 'eliminate', 'penny', 'sentence', 'dreams', 'stars', 'pointing', 'tons', 'laughing', \"kennedy's\", 'sad', 'acquire', 'bench', 'dave', 'mines', '300', 'propaganda', 'exposure', 'prize', 'probable', 'suits', 'dining', 'evaluation', '27', 'greenwich', 'thereby', 'covering', 'senior', 'operated', 'tight', 'helva', '**zg', 'inherent', 'stressed', 'testament', 'johnson', 'controversy', 'planes', 'sovereignty', 'extending', 'carolina', 'fortune', 'luncheon', 'delaware', 'salvation', 'ekstrohm', 'charming', 'buying', 'eileen', 'racial', 'peas', 'colony', 'outdoor', 'forgive', 'demonstrate', 'ecumenical', 'pacific', 'mutual', 'jew', 'exclusively', 'sewage', 'constitute', 'bears', 'partially', 'astronomy', 'santa', 'chandler', 'aesthetic', 'overcome', 'flux', 'arlene', 'brooklyn', 'cigarette', 'contributions', 'entertainment', 'ruling', 'sitter', 'palfrey', 'reorganization', 'heading', 'bridges', 'mathematical', 'searching', 'marginal', 'troubles', 'rational', 'suspended', 'germans', 'stuck', 'philosophical', 'dances', 'parking', 'diet', 'jump', 'pittsburgh', 'fault', 'theresa', 'talents', 'resumed', 'desperate', 'consequence', 'exercises', 'lands', 'victim', 'velocity', 'managers', 'maggie', 'productive', 'surrounding', 'beef', 'empire', 'revenues', 'allowances', 'liberals', 'trading', 'promotion', 'hang', 'wars', 'formerly', 'secure', 'sba', 'submarine', 'preferred', 'craft', 'mount', 'castro', 'incredible', 'comments', 'released', 'tilghman', 'distributed', 'brave', 'ann', 'critic', 'habit', 'signals', 'feeding', 'painful', 'declaration', 'diffusion', 'asleep', 'criminal', 'fabrics', 'phenomena', 'actor', 'sophisticated', 'exciting', 'roughly', 'barrel', 'continuously', 'radar', 'restrictions', 'sons', 'sessions', 'resist', 'happening', 'height', 'slave', 'eternal', 'gentle', 'ultimately', 'christianity', 'orange', 'storm', 'contacts', 'lacking', 'structural', 'farmers', 'anxious', 'unconscious', 'mitchell', 'suited', 'residence', 'cycle', 'grades', 'composition', 'crystal', 'tangent', 'accomplish', 'marshal', 'consistent', 'wholly', 'disaster', 'dealers', 'relieved', 'pressing', 'jersey', 'trail', 'correspondence', 'flew', 'municipal', 'recovery', 'reputation', 'marshall', 'conferences', 'threatening', 'fallen', 'melting', 'jackson', 'part-time', 'approaches', 'degrees', 'coolidge', 'pete', 'sen.', 'nixon', 'honored', 'publicity', 'promising', 'knee', 'imagined', 'lane', 'cavalry', 'northwest', 'long-term', 'grinned', 'friendship', 'witness', 'sheets', 'skills', 'instruction', 'fence', 'cady', 'christmas', 'tribute', 'coach', 'voting', 'constitutional', 'applications', 'cheap', 'attempting', 'eugene', 'patrol', 'bowl', 'tim', 'alec', 'satisfaction', 'sergeant', 'fred', 'davis', 'honey', 'settle', 'saddle', 'prevented', 'empirical', 'lively', 'vivid', 'realism', 'appreciation', 'gang', 'educated', 'phases', 'possessed', 'vermont', 'respectable', 'respectively', 'observe', 'anglo-saxon', 'scattered', 'tip', 'expanding', 'suburban', 'shopping', 'continually', 'protected', 'firing', 'pack', 'backward', 'realization', 'victor', 'impressions', 'pond', 'pupils', 'belly', 'exact', 'modest', 'shock', 'hired', 'staring', 'norms', 'enable', 'ownership', 'woods', 'demonstration', 'attached', 'dedication', 'amateur', 'preliminary', 'harris', 'routine', 'trustees', 'savage', 'attacked', 'paying', 'intermediate', 'spencer', 'genius', 'involve', 'bullet', '29', 'participate', 'prospect', 'upstairs', 'mexican', 'oral', 'temperatures', 'utopia', 'abandoned', 'curiosity', 'gear', 'flash', 'reserved', 'morality', 'traveled', 'expert', 'registered', 'bare', 'coverage', 'traditions', 'tubes', 'launched', 'musician', 'grain', 'adult', 'drug', 'loans', \"o'banion\", 'proceeded', 'operational', 'absolute', 'intervention', 'cleared', 'announcement', 'dealt', 'sampling', 'assist', 'verse', 'yeah', 'chiefly', 'transformed', 'bang-jensen', 'biggest', 'tractor', 'concerts', 'contest', 'basement', 'nervous', 'disk', 'builders', 'mason', 'encountered', 'dull', 'puerto', 'harm', 'consisted', 'attracted', 'trembling', 'hide', 'dawn', 'requirement', 'beard', 'journey', 'insight', 'inventory', 'deck', 'economical', 'successes', 'philip', 'quarters', 'bombers', 'architect', 'cocktail', 'desert', 'detergent', 'plates', 'publications', 'amendment', 'rehabilitation', 'shirt', 'displayed', 'encounter', 'substitute', 'foams', 'wounded', 'triumph', 'jefferson', 'envelope', 'prairie', 'grateful', 'auto', 'ritual', 'anti-semitism', 'utterly', 'conductor', 'placing', 'stadium', 'madison', 'evidently', 'perception', 'categories', 'clothing', 'belt', 'theological', 'manufacturing', 'justify', 'physiological', 'scholars', 'statistics', 'anticipated', 'earliest', 'explains', 'grains', 'entering', 'accused', 'yankees', 'kansas', 'tie', 'burns', 'frequency', 'circuit', 'gyro', 'zero', 'passes', 'vague', 'instruments', 'clarity', 'delightful', 'subjected', 'lock', 'controlling', 'reflects', 'frames', 'plug', 'sixth', 'respects', 'substances', 'mate', 'whispered', 'seventeen', 'sheep', 'dressing', 'variations', 'wake', 'tea', 'florida', 'vernon', 'steele', 'ford', 'suite', 'steadily', 'manufacturer', 'oxidation', 'beliefs', 'nearest', 'exhibit', 'teams', 'subtle', 'persuaded', 'glanced', 'capabilities', 'excited', 'delay', 'terror', 'interpreted', 'assessment', 'memorial', 'access', 'rank', 'cited', 'zen', 'refund', 'grabbed', 'sailing', 'fist', 'contracts', 'physically', 'portland', 'invited', 'drill', 'theirs', 'pressed', 'surrender', 'divorce', 'permission', 'civilian', 'shelters', 'absorbed', 'insure', 'cat', 'approaching', 'explicit', 'widow', 'drawings', 'clinical', 'rhythm', 'sponsor', 'acceptable', 'detroit', 'grows', 'climate', 'houston', 'autumn', 'winds', 'souls', 'quoted', 'yelled', 'nerves', 'examined', 'relevant', 'generous', 'magazines', 'nick', 'verbal', 'stumbled', 'broadway', 'cancer', 'greg', 'doubtful', 'decisive', 'startled', 'trace', 'regiment', 'ambassador', 'lowered', 'harder', 'locked', 'prisoners', 'pertinent', 'ill', 'scarcely', 'occupation', 'qualified', '1950', 's', 'happily', 'possession', 'kingdom', 'handled', 'miami', 'likes', 'accurately', 'channels', 'herd', 'conceived', 'draft', 'linear', 'douglas', \"company's\", 'bath', 'succession', 'fraction', 'sphere', 'masters', 'packed', 'farmer', 'nuts', 'protein', 'gin', 'inc.', 'expanded', 'compelled', '34', 'insistence', 'exploration', 'hollywood', 'telegraph', 'pitcher', 'skirt', \"children's\", 'ambition', 'airport', 'barton', 'loves', 'wives', 'stake', 'computed', 'ralph', 'stupid', 'lo', 'loyalty', 'endless', 'reliable', 'defended', 'essay', 'guitar', 'totally', 'eighth', 'alaska', 'fractions', 'freddy', 'regime', 'soap', 'foil', 'aboard', 'summary', 'hypothalamus', 'patience', 'classification', 'heritage', 'passengers', 'drinks', 'bother', 'package', 'arbitrary', 'component', 'parade', 'promises', 'leather', 'desperately', 'motel', 'neighboring', 'yours', 'brushed', 'fever', 'profits', 'historic', 'squad', 'avoided', 'midst', 'authors', 'miriam', 'spare', 'wishes', 'viewed', 'sentiment', 'palm', 'communications', 'expects', 'therapist', 'middle-class', 'suggestions', 'reveals', 'bid', 'hungry', 'pipe', 'relax', 'hurried', 'faint', 'dreamed', 'votes', 'aluminum', 'quiney', 'uncertain', 'availability', 'interviews', 'weekly', 'rendered', 'podger', 'desires', 'dive', 'forests', 'reflect', 'patents', 'characterized', 'owen', 'recommendations', 'aristotle', 'wherever', 'glued', 'lawyers', 'kowalski', 'damned', 'vienna', 'strategy', 'sensitivity', 'screw', 'narrative', 'furnished', 'unexpected', 'notable', 'category', 'abrupt', 'workshop', 'balanced', 'rid', 'letch', 'wildly', 'moderate', 'identify', 'wings', 'congressional', 'maryland', 'attacks', 'hen', 'entry', 'novels', 'commodities', 'engagement', 'compete', 'directions', 'ranks', 'blonde', 'assessors', 'hypothalamic', 'killing', 'undoubtedly', 'thereafter', 'painter', 'freely', 'discuss', 'voluntary', 'bold', 'pile', 'intimate', '70', 'appreciate', 'altered', 'estimates', 'capitol', 'enthusiastic', 'casual', 'fans', 'corporations', 'angels', 'adding', 'bridget', 'dynamic', 'abel', 'habits', '1927', 'mothers', 'hearts', 'vein', 'southeast', 'sighed', 'fibers', 'factories', 'sauce', 'anniversary', 'breathing', 'boating', 'lighting', 'tire', 'probabilities', 'relatives', 'ruth', 'continuity', \"john's\", 'companion', 'slid', 'dedicated', 'keeps', 'disturbed', 'vector', 'whisky', 'reaches', 'wealth', 'discrimination', '400', 'pitch', 'lengths', 'alienation', 'lean', 'arrive', 'worn', 'neat', 'shu', 'fame', 'reactionary', 'bend', 'underground', 'cabin', 'responded', 'unfortunate', 'historians', 'definitely', 'dilemma', 'sixties', 'implications', 'discharge', 'saxon', 'occurring', 'delayed', 'employee', 'infinite', 'uneasy', 'feb.', 'governmental', 'functional', 'spectacular', 'witnesses', 'inspired', 'blues', 'stevie', 'tended', 'stiff', 'livestock', 'lemon', 'oedipus', \"patient's\", 'laughter', 'shipping', 'rolling', 'continental', 'reporting', 'casey', 'midnight', 'attending', 'situated', 'utopian', 'chart', 'guided', 'rises', 'comprehensive', 'panic', 'realtors', 'backed', 'geometric', 'heights', 'pen', 'bullets', 'convictions', 'conversion', 'twenty-five', 'parlor', 'rubbed', 'suitcase', 'jean', 'cromwell', 'movable', 'tangible', 'surrounded', 'russ', 'aimed', 'bones', 'flood', 'blanche', 'noble', 'expectations', 'replacement', \"doctor's\", 'monthly', 'keith', 'fury', 'wing', 'residents', 'individually', 'speeches', 'assumptions', 'sober', 'colorful', 'tail', 'luxury', 'lover', 'sidewalk', 'orderly', 'ammunition', 'puzzled', 'milligrams', 'grams', 'ray', 'encouraging', 'documents', 'thrust', 'trends', 'struggling', 'ugly', 'shell', 'congressman', 'whereby', 'screaming', 'angie', 'sink', 'competence', 'amazing', 'complained', 'distances', 'boss', 'escaped', 'chase', \"woman's\", 'moore', 'allows', 'plaster', 'targets', 'particle', 'star', 'resting', 'aug.', 'ambiguous', 'rush', '1948', 'tennessee', 'missouri', 'doc', 'originally', 'morris', 'belgians', 'posts', 'jan.', 'servants', 'stern', 'sandburg', 'fats', 'cholesterol', 'directors', 'specialists', 'crash', \"city's\", 'mechanics', 'drivers', 'behalf', 'meanings', 'al', 'inspection', 'specimen', 'input', 'nonspecific', 'registration', 'laura', 'rico', 'noon', 'merchant', 'ninth', 'refrigerator', 'assembled', 'rent', 'mechanisms', 'aunt', 'tap', 'savings', 'theories', 'snapped', 'invitation', 'demanding', 'immortality', 'garage', 'sera', 'rev.', 'policeman', '35', 'okay', 'pursue', '0', 'agriculture', 'slide', 'salem', 'colonial', 'conditioned', 'worries', 'helpless', 'substrate', 'guys', 'arrested', 'arrival', 'exhibition', 'illustration', 'convenient', 'colleagues', 'notte', 'objection', 'melody', 'recommendation', 'fog', 'pa', 'cafe', 'renaissance', 'accelerometer', 'tent', '1951', 'ceremony', 'spell', 'wisconsin', 'adequately', 'solve', 'trucks', 'civic', 'fatal', 'fathers', 'undertaken', 'breaking', 'mexico', 'packing', 'slope', 'emphasized', 'border', 'protest', \"weren't\", 'champion', 'combine', 'confirmed', 'democracy', 'binding', 'exercised', 'mars', 'gen.', 'fortunately', 'procurement', 'hamilton', 'span', 'curves', 'ham', 'toes', 'daytime', 'assert', 'submit', 'manage', \"b'dikkat\", 'appeals', 'awarded', 'emphasize', 'brick', 'questioning', 'slender', 'distinguish', 'dairy', 'splendid', 'employes', 'dishes', 'consumption', 'separation', 'collect', 'filing', 'sole', 'smart', 'printing', 'belongs', 'faster', 'lamp', 'dolores', 'stretching', 'hotels', 'startling', 'valid', 'arteries', 'heating', 'stocks', 'fitted', 'seized', 'suspected', 'michigan', 'merchants', 'successor', 'yankee', '1949', 'wildlife', 'accepting', 'revolutionary', 'converted', 'tooth', 'retained', 'channel', 'announce', 'scared', 'helion', 'accordance', 'stolen', 'disposed', 'racing', 'surplus', 'reporter', 'hunger', 'occasions', 'hits', 'skyros', 'anticipation', 'indirect', 'stresses', 'ruined', 'circular', 'sport', 'ridiculous', 'missionary', 'departure', 'displays', 'pip', 'races', \"christ's\", 'prospective', 'venture', 'glory', 'eliminated', 'observers', 'strategic', 'rourke', 'biblical', 'boots', 'peered', 'reverend', 'caution', 'label', 'voters', 'joke', 'submarines', 'joyce', 'destiny', \"hasn't\", 'barco', 'planets', 'pays', 'exceed', 'carries', 'unlikely', 'despair', 'screamed', 'temporarily', 'fogg', 'crossing', 'visits', 'depths', 'naive', 'wheels', 'reactivity', 'mess', 'borden', 'ratios', 'anyhow', 'ben', 'illness', 'blowing', 'chapel', 'sites', 'fellows', 'don', 'heroic', 'ballistic', 'johnston', 'westminster', 'loaded', 'abuse', 'el', 'timber', 'negotiations', 'faulkner', 'marriages', 'staying', 'juvenile', 'faded', 'smelled', 'sharing', 'nov.', 'insects', 'rifles', 'proceedings', 'wit', 'styles', 'crops', 'h', 'ah', 'fantastic', 'competent', 'attain', 'tones', 'passages', 'suburbs', 'strikes', '/', 'favored', 'tobacco', 'disposal', 'obliged', 'transformation', 'recommend', 'urgent', 'quarrel', 'neatly', 'jar', 'listeners', 'optical', 'repair', 'indication', 'stephen', 'bishop', 'copies', 'aroused', 'lest', 'murderer', 'tournament', 'respond', 'nurse', 'imitation', 'pupil', 'lizzie', 'diseases', 'grip', 'victims', 'porter', 'shadows', 'vacuum', 'pamela', 'devil', 'happiness', 'squeezed', 'basket', 'consulted', 'destructive', 'ethics', '80', 'southerners', 'shame', 'lao', 'katanga', 'remembering', 'informal', 'rob', 'canvas', 'sixteen', 'gentlemen', 'investigated', 'killpath', 'displacement', 'inclined', 'beloved', 'convenience', 'amen', 'hypothesis', 'transport', 'tales', 'theology', 'complement', 'jungle', 'tetrachloride', 'wondering', 'bet', 'heroes', 'chip', 'hidden', 'decent', 'continent', 'lift', 'bobby', 'kay', 'figured', 'slowed', 'dickens', 'rang', 'rage', 'metaphysical', 'achievements', 'severely', 'mistaken', 'strongest', 'intentions', 'anniston', 'impulse', 'overseas', 'supervision', 'lodge', 'slim', 'summers', 'loyal', 'flower', 'iodine', 'interrupted', 'giffen', 'refuse', 'preparing', 'hank', 'springs', 'exceptional', 'grasp', 'fortunate', 'improvements', '75', 'toast', 'marble', 'cope', 'noting', 'photographs', 'treaty', 'belonged', 'warrant', 'stevens', 'drops', 'secants', 'leaped', 'tokyo', 'saving', 'sixty', 'plantation', 'ernie', 'solved', 'cereal', 'vicious', 'bearing', 'formally', 'rod', 'odd-lot', 'tommy', 'infectious', 'sec.', 'weekend', 'enforcement', 'tale', '42', 'selective', 'sticks', 'gradual', 'clover', 'warned', 'maude', 'ma', 'di', 'useless', 'requiring', 'bulletin', 'alliance', 'oils', 'heels', 'landscape', 'thinks', 'differently', 'loop', 'conformity', 'confession', 'tray', 'interaction', 'fluid', 'bitterly', 'neighborhoods', 'aggressive', 'dare', 'investors', 'lucky', 'legislators', 'pioneer', 'drank', 'continuation', 'referring', 'aims', 'madden', 'prefer', 'payne', 'readings', 'batting', 'hatred', 'warwick', 'cooperative', 'purchasing', 'injured', 'purchased', 'restricted', 'traveling', 'theorem', 'entries', 'grants', 'males', 'servant', 'urge', 'execution', 'biological', 'jail', 'graham', 'sunlight', 'pierre', 'addressed', 'differential', 'mustard', 'plato', 'hostile', 'murmured', 'chaos', 'formulas', \"o'\", \"drug's\", 'giant', 'consistency', 'phrases', 'lessons', 'bobbie', 'tactics', 'silently', 'congregations', 'alien', 'reasoning', 'conclude', 'trim', 'planet', 'pole', 'port', 'brains', 'assuming', 'ideological', 'diplomacy', 'freezing', \"people's\", 'columbia', 'crop', 'broader', 'medieval', 'judges', 'elaine', 'tsh', 'plainly', 'motive', 'persistent', 'athletic', 'emperor', 'nest', 'twentieth', 'clubs', 'renewed', 'neglected', 'indicating', 'theoretical', 'ranged', 'salesmen', 'nude', 'giants', 'allocation', 'differ', 'preservation', 'boundary', 'professors', 'bell', 'politicians', 'leveling', 'checks', 'flowing', 'taxi', 'socialism', 'photograph', 'print', 'selections', 'loudly', 'fascinating', 'g', 'nadine', 'lesser', 'statue', 'spectacle', 'condemned', 'sank', 'baltimore', 'parent', 'investigations', 'loud', 'fighters', 'endurance', 'relating', 'norman', 'violation', \"who's\", 'throwing', 'respective', 'translation', 'rigid', 'parks', 'rocks', 'deliver', 'seasons', 'self-help', 'nicolas', 'meredith', 'wagner', 'dominated', 'bathroom', 'homer', 'sketches', 'costumes', 'praise', 'crack', 'drain', 'frankie', 'goodness', 'youngsters', 'formulation', 'spotted', 'cabinet', 'earnings', 'talks', 'locations', 'infantry', 'minority', 'obligations', 'enjoying', 'termed', 'tumor', 'socialist', 'operand', 'likewise', 'partisan', 'guards', 'sung', 'translate', 'declined', \"america's\", 'acceleration', 'trevelyan', 'burma', 'paula', 'twisted', 'rugged', 'causing', 'pushing', 'authentic', 'matched', 'corners', 'affects', 'conspiracy', 'greeted', 'defend', 'detectives', 'fires', 'dropping', 'killer', 'vitality', 'approve', 'aegean', 'b.c.', 'pursuit', 'texture', 'stevenson', 'pause', 'cottage', 'legitimate', 'welch', 'seemingly', 'lid', 'cosmic', 'cubic', 'chancellor', 'benson', 'one-third', 'brooks', 'codes', 'proceed', 'lacked', 'shaped', 'fountain', 'compensation', 'troop', 'trap', 'assign', 'spectrum', 'earnest', 'predicted', 'folks', 'founded', 'gonna', 'lap', 'sheriff', 'lyrics', 'lit', 'bat', 'hawaii', 'regularly', 'distinctive', 'rests', 'psychology', 'fuel', 'lend', 'shocked', 'explosion', 'numerical', 'pronounced', 'defensive', 'denial', 'stating', 'reverse', 'dated', 'technological', 'producer', 'makers', 'seal', 'monument', 'lung', 'analytic', 'austin', 'guerrillas', 'disclosed', 'grab', 'respiratory', 'designated', 'alternatives', 'steinberg', 'milling', 'horror', 'ripe', 'finest', 'produces', 'apprentice', 'associate', 'preparations', 'businesses', 'pottery', 'whip', 'priority', 'awards', 'agreements', 'bunch', 'shops', 'shrugged', 'trains', 'accustomed', 'orientation', 'treats', 'inability', 'satisfy', 'francis', 'tanks', 'isolation', 'judicial', 'nineteen', 'resolved', 'stall', 'hers', '50%', 'afterward', 'reflecting', 'religions', 'camps', 'sue', \"pont's\", 'forgot', 'basically', 'weary', 'minerals', 'adjustments', 'ignorance', 'driveway', 'voyage', 'tracing', 'intuition', 'gulf', 'cape', 'arnold', 'discouraged', 'broadcast', 'dec.', 'newer', 'shifted', 'sensed', \"shouldn't\", 'k.', 'receives', 'thereof', \"government's\", 'borrowed', 'autonomy', 'admired', 'reward', 'lion', 'shorter', \"department's\", 'productivity', 'beautifully', 'cats', 'sketch', 'candy', 'upton', 'pursued', 'sustain', 'onion', 'novelist', 'vincent', 'analyzed', 'andrei', 'remainder', 'buried', 'initially', 'puts', 'speaks', 'lawn', 'inquired', 'waved', 'solar', 'collar', 'notably', 'neon', \"brown's\", 'considers', 'alike', 'fleet', 'halfway', 'hitting', '1910', 'bunk', 'physics', 'anthony', 'fulton', 'israel', 'underwater', 'ambitious', 'x', 'meaningful', 'cowboy', 'disappointed', 'synthesis', 'christians', 'motives', 'griffith', 'assignments', 'swinging', 'molecular', 'networks', '1944', 'strengthen', 'tract', 'commissioner', 'encouragement', 'polish', 'allen', 'crown', 'straightened', 'campaigns', 'vessel', 'threats', 'privilege', 'cracked', 'delivery', 'eighteenth', 'compromise', 'producers', 'accompanying', 'corporate', 'tsunami', 'backs', 'mathematics', 'mare', 'cream', 'dick', 'wiped', 'classroom', 'specialized', 'fitting', 'dad', 'dangers', 'hospitals', 'ridge', 'depression', 'combinations', 'systematic', 'geographical', 'devotion', 'addresses', 'shallow', 'bunks', 'appearing', 'candle', 'shining', 'crawled', 'proportions', '1946', 'michelangelo', 'remind', 'missions', 'overnight', 'plate', 'attributed', 'frederick', 'consistently', 'saint', 'imposed', 'doubts', 'superintendent', 'geneva', 'earned', 'angel', 'bases', 'scott', 'cheek', 'planetary', 'bleeding', 'nut', 'taylor', 'obligation', 'stopping', 'dusty', 'celebrated', 'link', 'acquisition', 'adjust', 'invention', 'bothered', 'forming', 'figs.', 'graduates', 'claire', \"it'll\", 'indirectly', 'refers', 'terribly', 'unhappy', 'ada', 'gains', 'significantly', 'flights', 'hoag', 'breeze', 'silly', 'enjoyment', 'buck', 'textiles', '1945', 'oriental', 'react', 'arose', 'carla', 'swing', 'solitary', 'injustice', 'manhattan', 'conceive', 'imaginative', 'cylinder', 'compounds', 'pitching', 'comparatively', 'creatures', 'gambling', 'muscular', 'refusal', 'governing', 'eichmann', 'titles', 'divisions', 'vertical', 'correlation', 'partnership', 'abandon', 'sunset', 'transmission', 'sincerity', 'hodges', 'present-day', 'vaguely', 'lectures', 'drums', 'lobby', 'unnecessary', 'claiming', 'overhead', 'deegan', 'editors', 'hats', 'rebel', 'simpler', 'vulnerable', 'odds', 'customs', 'females', 'piled', 'deals', 'domination', 'implied', 'ivory', 'cows', 'surviving', 'twist', 'lb.', 'cafeteria', 'ignore', 'asks', 'implies', 'rousseau', 'pasture', 'apt', \"russia's\", 'merits', 'dish', 'chorus', 'import', 'stove', 'historically', 'orthodox', 'upright', 'advocate', 'flashed', 'gilborn', 'consent', 'string', 'pianist', 'stripped', 'dim', 'fan', 'incidentally', 'hopeless', 'manpower', 'dutch', 'acted', 'indifference', 'ties', 'bundle', 'costly', 'applies', 'sentimental', 'explosive', 'cops', 'brass', 'absurd', 'hastily', 'mileage', 'denominations', 'inquiry', 'draws', 'cathy', 'scholar', 'performers', 'harvey', 'heap', 'greece', 'delegates', 'illuminated', 'secular', 'vanished', 'indispensable', 'ladder', 'brightness', 'sensible', 'instinct', 'counsel', 'employers', 'realities', 'roared', 'counted', 'morton', 'monopoly', 'gap', 'horrible', 'commented', 'athabascan', 'conditioning', 'muttered', 'ashamed', 'mode', 'bottles', 'whiskey', 'ton', 'translated', 'fond', 'battery', 'denver', 'diagonalizable', 'boundaries', 'excellence', 'certainty', 'rider', 'delighted', 'federation', 'employer', 'determines', 'audiences', 'pockets', 'disastrous', 'commanded', 'knight', \"men's\", 'physician', 'devote', \"hardy's\", \"day's\", 'persuade', 'highways', 'clock', 'improving', 'biography', 'exhibits', 'steam', 'centered', 'formidable', 'paths', 'minimize', 'sheer', 'foolish', 'expedition', 'buffer', 'assault', 'pine', 'python', 'purse', 'proceeds', 'blast', 'serum', 'validity', 'burton', 'raymond', 'engines', 'voltage', 'contradiction', 'deputy', 'humorous', 'logic', 'blockade', 'unpleasant', 'alabama', 'rivers', 'parliament', '28', 'tourist', 'creature', 'omitted', 'swim', 'trails', 'gods', 'applicable', 'tennis', 'secrets', 'crouched', 'milton', 'enforced', 'farms', 'simplicity', 'penetration', 'operators', 'moreland', 'tries', 'humble', 'arrest', 'neighbor', 'administrator', 'practicing', 'references', 'vs.', 'cardinal', 'payroll', 'confederate', 'generations', 'x-ray', 'obscure', 'bod', 'effluent', 'criticized', 'seated', 'oxford', 'strings', 'raises', 'gov.', 'spontaneous', 'complexity', 'designers', 'composite', 'affection', 'rental', 'hanford', 'simms', 'slip', 'masses', 'prescribed', 'discretion', 'battens', 'madame', 'soils', 'embassy', 'unto', 'preserved', 'underlying', 'i.', 'retail', 'hesitated', 'stroke', 'preceded', 'farming', 'personalities', 'appearances', 'alarm', 'marching', 'eve', 'heated', 'taxpayers', 'friction', 'lip', 'vegetables', 'crimes', 'loving', 'spectra', 'pill', \"wife's\", 'northeast', 'alice', 'excluding', 'assurance', 'describes', 'linguist', 'supplement', 'observer', 'describing', 'miracle', 'failing', 'decomposition', 'southwest', 'tense', 'well-known', 'supernatural', 'believing', 'veterans', 'artificial', 'kiss', 'jeep', 'waddell', 'thyroglobulin', 'tensions', 'inserted', 'transom', 'proportional', 'overwhelming', 'stature', 'comedie', 'suicide', 'gather', 'exerted', 'decrease', 'marry', 'sizable', 'countless', 'thru', 'consist', 'kissed', 'soup', 'capture', 'haney', 'advances', 'define', 'roger', 'pools', 'catcher', 'tentative', 'lou', 'cemetery', 'export-import', 'careers', 'alongside', 'bounced', \"husband's\", 'cobb', 'imply', 'policemen', 'quest', 'debut', 'orbit', 'intend', 'instantly', 'rail', 'mae', 'cranston', 'arriving', 'interval', 'lalaurie', 'deadly', 'couples', 'connecticut', 'capita', 'camping', 'bull', 'commit', 'kicked', 'submitted', 'yale', 'beam', 'stirring', 'popularity', 'memories', 'constructive', 'asserted', 'coupled', 'fluids', 'arises', 'spectators', 'framed', 'corridor', 'distress', 'clue', 'fences', 'potatoes', 'seeming', 'cockpit', 'calif.', 'ordinarily', 'honorable', 'upset', 'flag', 'cooper', 'henri', 'indications', 'bulk', 'shades', 'monk', 'suspicious', 'senses', 'entertain', 'committees', 'map', 'brand', 'habitat', 'angular', 'ambitions', 'wrapped', 'peak', 'arch', 'enters', 'glimpse', 'stein', 'cannery', 'marty', 'meaningless', 'dome', 'cane', 'clever', 'whites', 'conjunction', 'succeed', '500', \"fromm's\", 'fruits', 'insights', 'wagons', 'tempted', 'tower', 'charlotte', 'glorious', 'barriers', 'perceive', 'gossip', 'stalin', 'garryowen', 'readiness', 'stirred', 'judging', 'coalition', 'erected', 'swiftly', 'weighed', 'feathertop', 'linked', 'proposition', 'deemed', 'stockade', 'straw', 'scream', 'babies', 'substituted', 'notions', 'counting', 'bacterial', 'invasion', 'designer', 'chapters', 'poverty', 'verdict', 'auditorium', 'associates', 'whoever', 'meadow', 'pray', 'remarkably', 'iliad', 'accommodate', 'superiority', 'daylight', 'staggered', \"earth's\", 'adolescence', 'qualifications', 'promoting', 'lagoon', 'closet', 'analogy', 'restored', 'strips', 'commands', 'joining', 'surprisingly', 'chemistry', 'armies', \"governor's\", 'cleveland', 'scrutiny', 'fusion', 'nineteenth-century', 'singular', 'shoe', 'aloud', 'viewpoint', 'celebration', 'garth', 'downward', 'wayne', 'helen', 'idle', 'husbands', 'berger', 'irrelevant', 'financed', 'arkansas', 'snap', 'screwed', 'breed', 'teen-agers', 'dandy', 'blindness', 'kentucky', 'essence', 'episode', 'installations', 'ideology', 'experimentation', 'typically', 'ideals', 'eighteen', 'exclaimed', 'eliminating', 'operates', 'u', 'eligible', 'touches', 'rocking', 'optimum', 'willis', 'assets', 'ruin', 'nursing', 'greville', 'inherited', 'optimism', 'flexibility', 'coordinated', 'jerked', 'brace', 'woke', 'judged', 'attract', 'projected', 'lucille', 'awful', 'vertex', 'intersection', 'tribune', 'swore', 'selden', 'prolonged', 'deserted', 'favorably', 'abstraction', 'attributes', 'rabbi', 'capitalism', 'joan', 'rancher', 'drag', 'specimens', 'stimulation', 'plains', 'autistic', 'thread', 'ultraviolet', 'jerry', 'climax', 'spray', 'nassau', 'odor', 'coincide', 'suburb', 'fancy', 'turmoil', 'crude', 'montgomery', 'fastened', 'telephoned', 'aged', 'pro', 'sustained', 'donald', 'passenger', \"officer's\", 'gown', 'sincere', 'katie', 'media', 'drainage', 'toll', 'anaconda', 'lightning', 'fabric', 'shake', '1912', 'belonging', 'hawk', 'contents', 'thayer', 'hart', 'justification', 'opposing', 'ticket', 'expressions', 'switched', 'curriculum', 'styka', 'clearer', 'nails', 'columbus', 'darling', 'acknowledged', 'refrigeration', 'gop', 'thee', 'mercenaries', 'scored', 'erect', 'frankfurter', 'guessed', 'edythe', 'newest', 'grey', 'gotten', 'visitor', 'lungs', 'reads', 'forbidden', 'actors', 'possess', 'deliberate', 'dismissed', 'doorway', 'lens', 'earn', 'folded', 'langford', 'gum', 'officially', 'profile', '1940', 'twenty-four', 'hetman', \"country's\", 'paragraphs', 'and/or', 'manufacture', 'foreigners', 'ordering', 'representation', 'rope', 'lafayette', 'cleaned', 'customary', 'flung', 'pit', 'pastor', 'relaxed', 'hire', 'pie', 'fee', 'gospel', 'preaching', 'founding', 'bush', 'sooner', 'boost', 'eugenia', 'elegant', 'railroads', 'tips', 'tightly', 'portrait', 'chores', 'corruption', 'harlem', 'computer', 'unaware', 'convicted', 'tappets', 'foster', 'emory', 'handley', 'petition', 'lined', 'shaking', 'discussing', 'confident', 'colorado', 'rubber', 'un', 'shortage', 'uncertainty', 'stimulus', 'cop', 'tickets', 'applause', 'dimension', 'fists', 'spreading', 'invented', 'thorough', 'deserves', 'knock', 'monstrous', 'ethnic', 'hammarskjold', 'crying', 'disturbing', 'abruptly', 'ceremonies', 'jaw', 'jay', 'potato', '104', 'portable', 'ulyate', '15th', 'arrow', \"hudson's\", 'presumed', 'mentally', 'tappet', 'scientist', 'touching', 'molding', 'epic', 'awake', \"khrushchev's\", 'programing', 'blocked', 'jessica', 'emancipation', 'compulsivity', 'sloan', 'seats', 'tile', 'hiding', 'carryover', 'penetrating', 'occupy', 'shifts', 'locate', 'qualify', 'pan', '1.5', 'counts', 'gentile', 'shattered', 'threshold', 'gavin', 'pending', 'reacted', 'achieving', 'rug', 'bari', 'imaginary', 'segregated', 'doses', 'disapproval', 'wasted', 'vocabulary', \"boy's\", 'reviewed', 'curtain', 'blackman', 'opium', 'prone', 'holiday', 'explanations', 'compounded', 'crombie', 'leaning', 'sins', 'vocal', 'mexicans', 'foundations', 'impulses', 'parish', 'messages', 'cm', 'scenery', \"jess's\", 'villages', 'graph', 'consultant', 'bronze', '45', 'consumed', 'ego', 'piazza', 'sleeve', 'confined', 'englishman', 'vapor', 'ferry', 'trujillo', 'indiana', 'leap', 'oriented', 'maintains', 'deviation', 'oppose', 'pulley', 'selecting', 'chuck', 'completing', 'crest', 'realizing', 'amid', 'files', 'forcing', 'contours', 'cooled', 'flame', 'allowance', 'bow', 'mythological', 'litigation', 'gates', 'delphine', 'airplane', 'militia', 'familiarity', 'exhausted', 'mg.', 'dice', 'evenings', \"poet's\", 'tar', 'fifties', 'romance', 'lasting', 'overall', 'opens', 'carpet', 'objected', 'undue', 'mistakes', 'thou', 'presidents', 'bored', 'sunny', 'valued', 'vigor', 'penalty', 'expand', 'purchases', 'instructed', 'coordination', 'copper', 'protested', 'skeletal', 'dragged', 'investigators', 'walks', 'feathers', 'dozens', 'influential', 'pity', 'angles', 'illustrate', 'plunged', 'relieve', 'sums', 'rupees', 'unemployment', 'taxation', 'deer', 'restoration', 'dwight', 'theodore', 'everyday', 'circulation', 'carroll', 'alternate', 'equitable', 'greene', 'lighter', 'birthday', 'extends', 'dragging', 'dillon', 'sox', 'revolver', 'wires', 'quaint', 'quote', 'congregational', 'stride', 'investigate', 'flavor', 'pension', 'profitable', 'sturdy', 'rebels', 'regretted', 'fork', 'transparent', \"foundation's\", 'organs', 'conservation', 'adjoining', 'copernicus', 'bathing', 'progressive', 'arguments', 'ate', 'baptized', 'amended', 'afterwards', 'dumb', 'intensive', 'expecting', 'fantasy', 'par', 'transit', 'nomination', 'presidency', 'elementary', 'placement', 'treasurer', 'answering', 'inventories', 'sociology', 'contraction', 'absorption', 'organize', 'tires', 'functioning', 'kohnstamm', 'mimesis', 'turkish', 'merger', 'enabled', 'privately', 'acute', 'rep.', 'sweater', 'polished', '1942', '1941', 'nearing', 'honestly', 'tore', 'diverse', 'stuart', 'slice', 'complaint', 'doubtless', 'ample', 'louder', 'microorganisms', 'employ', 'examiner', 'fur', 'nazi', 'reunion', 'socially', 'hairs', 'spaces', 'powell', 'motions', 'distinctions', 'prosperity', 'pairs', 'equilibrium', 'handicapped', 'partners', 'hunter', 'gifted', 'watercolor', 'understandable', 'skies', 'inquiries', 'supposedly', 'damp', 'supplying', 'evaluated', 'spokesmen', 'subsection', 'couch', 'willie', 'delegation', 'hardened', 'co-operation', 'aspirations', 'thunder', 'gloom', 'ludie', 'appealed', 'blew', 'planners', 'commitments', 'miller', 'monroe', 'competing', 'grim', '1913', 'kohnstamm-positive', \"plato's\", 'accelerated', 'resume', '1,000', 'pin', 'breakdown', 'fix', 'rebellion', 'trick', 'sentences', 'diversity', 'thirty-five', 'commonplace', 'tilted', 'collaboration', 'sadly', 'frankly', 'rounded', 'conjugates', 'belgian', 'followers', 'wax', 'two-thirds', 'resentment', 'cake', 'complain', 'manners', 'dill', 'staged', 'haven', 'liberalism', 'pickup', 'roar', 'respected', 'vessels', 'patch', 'anderson', 'incest', 'artillery', 'dough', 'choices', 'reluctant', 'detached', 'owed', 'bargaining', 'ill.', 'ignorant', 'prayers', 'fashionable', 'proclamation', 'stereotype', 'drift', 'bass', 'elevator', '7th', 'challenging', 'casework', 'da', 'shy', 'mortgage', 'kitti', 'specialist', 'wells', 'tenure', 'spit', 'defeated', 'successive', 'annually', 'cumulative', 'attendant', 'governed', 'ptolemaic', 'stubborn', 'reconstruction', 'afternoons', 'requests', 'boil', 'trot', 'tumbled', 'arched', 'interstate', 'chairs', 'smallest', 'contended', 'moonlight', 'participating', 'aerator', 'creek', 'portions', 'pains', 'depot', 'alter', \"scotty's\", 'initiated', 'synthetic', 'cease', 'shifting', 'manned', 'terminal', 'rejects', 'commitment', 'cab', 'imperial', 'evolution', 'spun', 'taxed', 'havana', 'freeman', 'mounting', 'incorporated', 'ninety', 'needless', 'mist', 'greatness', 'apartments', 'ace', 'buffalo', 'behave', 'oldest', 'yalta', 'richmond', 'fails', 'byron', 'elder', 'cylindrical', 'commissioners', 'ryan', 'cluster', 'insoluble', 'sights', 'foliage', 'cultures', 'incentive', 'shipments', 'weep', 'subjective', 'arranging', 'vases', 'cheeks', 'comfortably', 'democrat', 'mild', 'lecture', 'eaten', 'guaranteed', 'helium', 'sells', 'explore', 'clarify', 'matches', 'ave.', '1/2', 'bastards', 'proves', 'rounds', 'occupational', 'cups', 'nominal', 'paragraph', 'attic', 'm', 'argiento', 'bake', 'rhythms', 'philosopher', 'sector', 'economics', 'repeatedly', 'enterprises', 'sweep', 'chewing', 'anonymous', \"night's\", 'yarn', 'induced', 'virus', 'layer', 'convey', 'imports', 'a.l.a.m.', 'pops', 'antibody', 'beverly', 'disguised', 'strokes', 'tory', 'anchor', 'guam', 'embrace', 'resonance', 'immense', 'pro-western', 'beds', 'phosphor', 'nowadays', 'usage', 'nazis', 'restless', 'phony', 'solely', 'behaved', 'politician', 'proclaim', 'miserable', 'housed', 'repetition', 'cherished', 'mays', 'attraction', 'manifold', 'devised', 'korean', 'lublin', 'short-term', 'equality', 'anti-slavery', 'waving', 'presbyterian', '800', 'wanting', 'dared', 'preserves', 'youthful', 'dislike', 'glow', 'heavier', 'dominican', 'beaches', 'cavity', 'thirteen', 'hymen', 'breast', 'denying', 'mister', 'passionate', 'energies', 'resultant', 'pansies', 'diane', 'arlen', 'cracking', 'strict', 'journalism', 'testified', 'token', 'cliff', 'dissolved', 'obtainable', 'lever', 'structured', 'inning', 'dialysis', 'garry', 'swiss', 'monitoring', 'elderly', 'grandfather', 'fox', 'territorial', 'hopeful', 'counterparts', 'undertake', 'opponent', 'majdanek', 'alas', 'blank', 'pituitary', 'consult', 'spinning', 'antique', 'poultry', 'hillsboro', 'confirm', 'acrylic', 'criteria', 'intent', 'rescue', 'generals', 'divide', 'fromm', 'recognizes', 'amy', 'stray', 'gauge', 'temptation', 'privileges', 'flies', 'memorable', 'executed', 'punishment', 'conditioner', 'architecture', 'mutually', 'cautious', 'hazard', 'picasso', 'mix', 'scanned', 'welcomed', 'emerging', 'publishing', 'interpret', 'rested', 'unlimited', 'ken', 'tomb', 'beg', 'wrist', 'sally', 'contempt', 'limp', 'defending', 'expenditure', 'coincidence', 'morale', 'unconsciously', 'grimly', 'correspondent', 'admiration', 'intensely', 'protests', 'egypt', 'illustrations', 'preacher', 'sliding', 'nuclei', 'heater', 'formulaic', 'cement', 'sodium', 'meltzer', 'disturb', 'leveled', '1930', 'traced', 'speeds', 'mice', 'ballot', 'molded', 'inspector', 'thoughtfully', 'intellectuals', 'charcoal', 'tender', 'combining', \"industry's\", 'looming', 'liver', 'approximate', 'akin', 'daughters', 'linguists', 'enclosed', 'graduated', 'thereto', 'convert', 'sorts', 'unadjusted', 'partial', 'unlocked', 'capability', 'glendora', 'buzz', 'unquestionably', 'preventive', 'ranges', 'gripped', 'boiled', 'quint', 'aqueous', 'silk', 'canyon', '2:36', 'resort', 'l', 'generator', 'insane', 'finite', 'settlers', 'receiver', 'abundance', 'krim', 'circumstance', 'arising', 'layers', 'priest', 'titled', 'atlas', 'retreat', 'permanently', 'skorich', 'scratching', 'eleanor', 'bitterness', 'blade', 'narrator', 'chronic', 'compact', \"steele's\", 'crises', 'wrinkled', 'revealing', 'painfully', 'paints', 'swelling', 'honors', 'spokesman', 'elemental', 'influences', 'distributions', 'meats', 'beaten', 'guerrilla', 'ribs', 'urgency', 'roleplaying', 'buddy', 'juice', 'standpoint', 'adjacent', 'minnesota', 'showmanship', 'realm', 'disposition', 'conceded', 'grasped', 'carriage', 'dimly', 'winslow', 'hormone', 'survivors', 'squeeze', 'frantic', 'praised', 'posture', 'cappy', 'optimistic', 'icy', 'appealing', 'farewell', 'subdivision', 'swollen', 'meantime', 'outset', 'preferably', 'symptoms', 'hay', 'smiles', 'intact', 'proven', 'revelation', 'plow', 'summoned', 'walker', 'calcium', 'insect', 'alleged', 'resolve', 'luggage', 'pearson', 'impatience', 'collapsed', 'honesty', 'taxpayer', 'theatrical', 'adoption', 'tri-state', 'constituents', 'insert', 'mortal', 'controversial', 'favorites', 'edwin', 'evaluate', 'disappear', 'swallowed', 'cellulose', 'rake', 'regulation', 'null', 'lengthy', 'homeric', 'amusing', 'zinc', 'individualism', 'stare', 'calculations', 'clergy', 'cigarettes', 'adopt', 'acid', 'feasible', 'halted', 'manufactured', 'phonologic', 'loses', 'businessmen', 'arguing', 'magnification', 'performing', 'hey', 'paradise', 'boot', 'earl', 'inorganic', 'hard-surface', 'wilderness', 'fluorescence', 'istiqlal', 'depreciation', '10,000', 'murders', 'bits', 'criticisms', 'porous', 'feared', 'lester', 'unified', 'foregoing', 'railway', 'rely', 'bolt', 'grill', 'whipped', 'oak', 'defenses', 'stains', 'viet', 'waist', 'outfit', 'survived', 'communicate', 'monks', 'regulus', 'outward', 'essex', 'juanita', 'emerge', 'alcohol', 'unfair', 'explaining', 'lousy', 'locating', 'crept', 'static', 'influenced', 'integral', 'baptist', 'piepsam', 'daniel', 'chris', 'duration', 'cuban', 'korea', 'eagerly', \"eisenhower's\", 'mortar', 'invariant', 'shed', 'sansom', 'barnett', 'mailed', 'twins', 'metaphysics', 'diagnosis', 'effected', 'torrio', 'churchill', 'harsh', 'warn', 'threaten', 'momentum', 'transferor', 'grin', 'lowest', 'brumidi', 'strained', 'exaggerated', 'tissues', 'wtv', 'credited', 'confrontation', 'pathet', 'sinister', 'hemisphere', 'electoral', '72', 'symbolized', 'journalist', 'patrolman', 'colt', 'tin', \"kid's\", 'owns', 'mass.', 'dug', 'dot', 'sexes', 'ceased', 'favors', 'photographic', 'singers', 'mineral', 'wholesome', 'state-owned', 'scotland', 'barbecue', 'butt', 'contributing', 'lyric', 'acquainted', 'resemblance', 'cm.', 'pavement', 'learns', 'statesman', 'frustrated', 'concerto', 'abolition', 'passions', 'scores', 'disappointment', 'editorials', 'satisfying', 'shower', 'bark', 'squarely', 'waking', 'inhabitants', 'priests', 'herald', 'lantern', 'dental', 'conducting', 'hello', '65', 'affixed', 'cult', 'absorb', 'restrict', '20th', 'width', 'prohibition', 'plea', 'bee', 'unusually', 'incomplete', 'monsieur', 'smoothly', 'cared', 'childish', 'compatible', 'vice-president', 'involvement', 'ash', 'trig', 'enlisted', 'robbery', 'discoveries', 'consulting', 'persians', 'cambridge', 'palazzo', 'ap', 'carved', 'shelley', 'departing', 'destroying', 'literal', 'grove', 'salesman', 'bubbles', 'buys', 'collage', 'ed', 'perceived', 'clues', 'equations', 'populated', 'winchester', 'sometime', 'albany', 'technicians', \"mary's\", 'politically', 'ribbon', 'venus', 'ratings', 'vacant', 'crashed', 'intersections', 'province', 'writings', 'queens', 'freed', 'curb', 'saviour', 'spade', 'undergraduate', 'le', 'coexistence', 'quo', 'maine', 'dread', 'jimmy', 'slashed', 'eloquent', 'remedy', 'defects', 'forum', 'restraint', 'chester', 'bearded', 'fringe', 'deciding', 'proceeding', 'sunrise', 'discrepancy', 'nearer', 'chickens', 'develops', 'nonsense', 'herr', 'ceramic', 'lauren', 'guides', 'impose', 'infrared', 'cruelty', 'entities', 'explored', 'dies', 'supports', 'spark', 'goddamn', 'captured', 'reared', 'attainment', 'mahzeer', 'applicants', 'summit', 'cites', 'sensation', 'hub', 'unimportant', 'wired', 'fearful', 'sundays', 'nerve', 'stack', 'virtues', 'imagery', \"pip's\", 'cautiously', 'climbing', 'clung', 'battered', 'conceivably', 'solemn', 'sail', 'vigorously', 'bud', 'settling', 'computing', 'boredom', 'solidarity', 'bushes', 'statute', 'reinforce', 'projection', 'odyssey', 'scriptures', 'provinces', 'andrew', 'gene', 'tony', \"lord's\", 'specificity', '1947', 'tourists', 'uniforms', 'herbert', 'ally', 'deceased', 'taliesin', 'feeds', 'elizabeth', 'disabled', 'compositions', 'shivering', 'modernization', 'undesirable', 'pork', 'handy', 'manifestations', 'beneficial', 'clearing', 'knit', 'muddy', 'fulfillment', 'mahayana', 'slammed', 'riders', 'tortured', 'doubled', 'liquidation', 'megatons', 'shells', 'prayed', 'fulfilled', 'turnpikes', 'hardware', 'proudly', 'irradiation', 'lime', 'centralized', 'loosely', 'paced', 'restrained', 'heavens', 'outline', 'paramagnetic', 'oregon', 'inspect', 'relevance', 'ghost', 'separately', 'hints', 'disagreement', 'nigger', 'finals', 'screws', 'listener', 'switzerland', '1943', 'mouse', 'opponents', 'hiroshima', 'brassnose', 'mcfeeley', 'sensations', 'brutality', 'dylan', 'frightening', 'patches', 'defining', 'screens', 'andrus', 'toynbee', 'pose', 'pollen', 'cheaper', 'introduce', 'waiter', 'rolls', 'ad', 'pohl', 'uniformity', 'co-optation', 'passive', 'asian', 'recover', 'ideally', 'unstructured', 'happier', 'rendering', 'lasted', 'quack', 'compass', 'handkerchief', 'serene', 'conclusive', 'oersted', 'brenner', 'terminate', 'oily', 'birmingham', 'streetcar', 'surge', 'ominous', 'deduct', 'deputies', 'swallow', 'custom', 'framing', 'wart', 'quit', 'burn', 'construct', 'ramsey', 'appropriated', 'interim', 'ireland', 'elimination', 'undergoing', 'saloon', 'duly', 'gaze', 'appreciated', 'poison', 'nilpotent', 'polynomials', 'leonard', 'decay', 'boulder', 'diminished', 'malraux', 'segment', 'mercury', 'viewing', 'specify', 'ml', 'globe', '38', 'antigen', 'purified', 'averaged', 'isaac', 'hoot', 'managerial', 'solemnly', 'superb', 'posse', 'nationally', '$10,000', 'ghetto', 'therein', 'violin', 'honeymoon', 'tougher', 'tremble', 'sanitation', 'necessitated', 'towering', 'unprecedented', 'hansen', 'annoyance', 'plymouth', \"faulkner's\", 'cursed', 'tank', 'implication', 'foremost', 'lumumba', 'pleading', 'recordings', 'blankets', 'creativity', 'clients', 'misfortune', 'afforded', 'sectors', 'deserved', 'eighty', 'creator', 'recruit', 'hail', 'mercy', 'forgiveness', 'maker', 'immigrants', 'conventions', '0.5', 'timing', 'radically', 'swear', 'forehead', 'impersonal', 'viscosity', 'philosophic', 'se', 'deficiencies', 'document', 'balls', 'adolescent', 'flashes', 'autonomic', 'postwar', 'inn', 'steering', 'handful', 'beethoven', 'lifetime', 'treating', 'truman', 'frustration', 'disciplined', 'duke', 'bleak', 'kremlin', 'anionic', '36', 'dolls', '1859', 'pint', 'maps', 'anglican', 'publishers', 'correctly', 'oklahoma', 'recalls', 'luis', 'educator', 'dentist', 'princess', 'strenuous', 'shaken', '1000', 'adjusting', 'technically', 'enabling', 'intricate', 'lately', 'cathode', 'sturley', 'liking', 'richards', 'mixing', '$100', 'adaptation', 'bands', 'maids', 'malaise', 'accent', 'masterpiece', 'garibaldi', 'vitamins', 'beowulf', 'ministers', 'gabriel', 'classified', 'warsaw', 'transfers', 'therapy', 'holidays', '1900', 'youngest', 'crushed', 'soviets', 'mosque', 'founder', 'sticky', 'pineapple', 'antibodies', 'romans', 'pretending', 'tear', 'comrades', 'protective', 'designing', 'propose', 'occurrences', 'secant', 'independently', 'borders', 'avocado', 'tropical', 'nam', 'nelson', 'cooler', 'projections', 'hazards', 'ills', 'keelson', '46', '$500', 'boris', 'squares', 'enables', 'paradoxically', 'keen', 'rubbing', 'flames', 'bite', 'forecasting', 'depressed', 'paso', 'congolese', 'therapeutic', 'steep', 'moritz', 'bags', 'enchanting', 'world-wide', 'downstairs', 'cubism', 'harvest', 'joints', 'uncomfortable', 'curled', 'declaring', 'decides', 'begged', 'hohlbein', 'treatments', 'amazed', 'quacks', 'generated', 'revised', 'commercially', 'concentrate', 'intelligible', 'trailers', 'button', 'professionals', 'tide', 'choosing', 'entity', 'ardent', 'statutory', 'campers', 'grandma', 'daring', 'seventeenth', 'dash', 'fla.', 'adventures', 'laying', 'creep', 'calculation', 'pilgrimage', 'awkward', 'curse', 'buttons', 'peninsula', 'prevailing', 'fits', 'hardest', '41', 'zoo', 'amazement', 'rev', 'wealthy', 'hut', 'ads', 'adapted', 'herman', 'implicit', 'burial', 'rows', 'compartment', 'recognizing', 'embarrassing', '1935', 'poll', 'earthy', 'calendars', 'flush', 'breaks', 'ringing', 'phoenix', 'improves', 'veto', 'resident', 'avoiding', '$600', 'temper', 'scrambled', 'perfection', 'methodist', 'unwed', 'appendix', 'utter', 'ministry', 'indies', 'rockefeller', 'bursting', 'beating', 'sermon', 'inquirer', 'thesis', \"roberts'\", 'dresses', 'corp.', 'szold', 'framework', 'hull', 'progressed', 'necessities', 'illegal', 'replies', 'smashed', 'instrumental', 'originated', 'dreaming', 'howe', 'barbara', 'trifle', 'integrity', 'discharges', 'speakers', 'frieze', 'rating', 'nighttime', 'incurred', 'nucleus', 'awfully', 'picket', 'forecast', 'cohesive', 'administered', 'employs', 'composers', 'boxes', 'script', 'deepest', 'adverse', 'youths', 'formulations', 'thoughtful', 'timothy', 'julie', 'pepper', 'safely', 'hysterical', 'champagne', 'homely', 'aided', 'painters', 'connections', 'cultivated', 'elbow', 'enzymes', 'grosse', 'sewer', 'affirm', 'instituted', 'reforms', 'misunderstanding', 'needle', 'preventing', 'transducer', 'sculpture', 'bounds', 'compound', 'peasants', 'debt', 'beams', 'douglass', 'debts', 'suspension', 'landlord', 'brooding', 'suggesting', 'communion', '1920', 'repeating', 'criterion', 'yielded', 'tub', 'modified', 'lucien', 'poles', 'nitrogen', 'blessed', 'assessing', 'sprang', 'haste', 'cruel', 'collecting', 'mcbride', 'averages', 'trustee', 'sandwich', 'newman', 'observing', 'hungarian', 'risen', 'danced', \"king's\", 'majestic', 'begging', 'illumination', 'halt', 'seminary', 'irenaeus', \"gavin's\", 'attach', 'discount', 'archaeology', 'abilities', 'statistical', 'alley', 'jupiter', 'rival', 'holster', 'marx', 'gaining', 'hesitate', 'combustion', \"latter's\", 'winding', 'rotary', 'lessened', 'hampshire', 'pratt', 'articulate', 'dictates', \"o'banion's\", 'extensively', 'gland', '$2', 'requested', 'patriot', 'debris', 'beginnings', 'fixing', 'pulls', 'parochial', 'singled', 'calf', 'pig', 'deaf', 'scholastic', \"peter's\", 'utilization', 'walnut', 'floors', 'sponsors', 'chambers', 'analytical', 'yell', 'sisters', 'earnestly', 'odors', 'settings', 'toys', 'usefulness', 'twentieth-century', 'accumulation', 'riverside', 'declining', 'surveys', 'predict', 'persistence', 'compilation', 'deadlock', 'notify', 'ernest', 'organizing', 'carmer', 'jumping', 'jaws', 'strangers', 'plumbing', 'outsiders', 'mingled', 'comprise', 'sleeves', 'yearly', 'cursing', 'loading', 'roast', 'partlow', 'byrd', 'moss', 'facets', 'non', 'margaret', 'handles', 'warnings', 'accidents', 'radioactive', 'smells', 'bacon', 'betrayed', 'kick', 'kirby', 'brilliantly', 'manuscript', 'eccentric', \"they've\", 'tastes', 'stereo', 'conversations', 'bienville', 'versus', 'authenticity', 'conceivable', 'analogous', 'domain', 'chef', 'crowds', 'sanction', 'elite', 'whisper', 'specially', 'nod', 'trader', 'larkin', \"week's\", 'emerges', 'catching', 'contrasts', 'accompaniment', 'badness', 'vain', 'cameras', 'hogan', 'luminous', 'afflicted', 'hunt', 'constitutes', 'montero', 'bernard', 'identities', 'infancy', 'gram', 'descriptions', 'assigning', 'metallic', 'principally', 'existential', 'refusing', 'preserving', 'deae-cellulose', 'actuality', 'blond', 'appalling', 'retain', 'purity', 'kent', 'hypothetical', 'coatings', 'decreases', 'swayed', 'nutrition', 'observes', 'sticking', 'forthcoming', 'cage', 'orthodontic', 'speculative', 'gran', 'anchored', 'disliked', 'consciously', 'solidly', 'advisers', 'baked', 'juet', 'rust', 'prejudice', 'cone', \"1/4''\", 'derive', 'rotation', 'colleague', 'promoted', 'obstacle', 'minneapolis', 'psychologist', 'leagues', 'indignant', 'thor', 'hengesbach', 'interpretations', 'discourage', 'perilous', 'borrow', 'cooperatives', '1933', 'puzzle', 'spelman', 'esther', 'mm.', 'pursuing', 'echoes', 'vivian', 'irresponsible', 'mcclellan', 'towels', 'timed', 'follow-up', 'varies', 'detect', 'costume', 'occupants', 'violently', 'dependence', 'workable', 'endured', 'dictatorship', 'ye', 'politely', 'tours', 'museums', 'expended', 'ditch', 'science-fiction', 'reversed', 'australian', 'resigned', 'withholding', 'urging', 'bulky', 'reef', 'prediction', 'disadvantages', 'hardship', 'turkey', 'competitors', 'hugh', 'trivial', 'shaved', 'obedience', 'selkirk', 'prostitution', 'moist', 'downright', 'commute', 'outcomes', 'heel', 'possessions', 'inspiration', 'metropolis', \"papa's\", 'descending', 'brodie', 'thrusting', 'lazy', 'furnishings', 'crystals', 'disarmament', 'miniature', 'trunk', 'av.', 'stacy', 'vue', 'disturbance', 'distinctly', 'ingredients', 'controller', 'wonders', 'perry', 'rotating', 'export', 'waterfront', \"navy's\", 'wiry', 'invitations', '1908', 'gazing', 'spacious', 'denoted', 'senators', 'philharmonic', 'push-pull', 'pa.', 'enjoys', 'comparative', 'guarding', 'protestants', '1917', 'choke', 'likelihood', 'client', 'secured', 'abolish', 'insulation', 'segregation', 'streams', '55', 'overt', 'locally', 'vacations', 'exhibited', 'deserve', '600', 'uniquely', 'stepping', 'resembles', 'dominance', 'reciprocal', 'peripheral', 'referrals', 'intercourse', 'pious', \"mercer's\", 'goldberg', 'detection', 'semester', '57', 'pirates', 'subsequently', 'fictional', 'curiously', 'impurities', 'polaris', 'tan', 'drexel', 'entertained', 'seas', 'foreseen', 'conjugate', 'natives', 'hesperus', 'spatial', 'satisfactorily', 'businessman', 'picnic', 'shores', 'pamphlets', 'steer', 'enormously', 'gm.', 'snatched', 'cooperate', 'coombs', 'vagina', 'utilize', '1924', 'echo', 'max', 'skiff', 'expectation', 'wagner-peyser', 'oscar', 'maxwell', 'bacteria', 'purdew', 'durable', 'autocoder', 'marines', 'supplementary', 'trades', 'walton', '**yc', 'bloom', \"barco's\", 'distorted', 'analyzing', 'accuse', 'sanctuary', 'tenants', 'kennings', 'puzzling', 'ambiguity', 'enacted', 'mining', '2-56', 'benjamin', 'midway', \"an'\", 'muzzle', 'moisture', 'dodge', 'emma', 'miscellaneous', 'breasts', 'concealed', 'wipe', 'paste', 'licked', 'clarence', 'petitions', 'todman', 'addressing', 'rushing', 'chromatography', '32', 'fifteenth', 'collaborated', 'boast', 'sullivan', 'irony', 'fitness', 'characterization', 'admirable', 'telegram', 'granting', 'blessing', 'sullen', 'rhythmic', 'steichen', 'deficit', \"how's\", 'rides', 'participated', 'earning', 'institutional', 'wonderfully', 'margin', 'slum', 'conservatism', \"palfrey's\", 'ecclesiastical', 'nephew', 'summarized', 'garson', 'scenic', 'nursery', \"johnson's\", 'moses', 'marijuana', 'extracted', 'apportioned', 'remembers', 'orioles', 'preached', 'lloyd', 'mounts', '$300', 'tasted', \"wright's\", 'mainland', 'multiply', 'kicking', 'hideous', 'dispatch', 'cheerful', 'compulsive', 'climb', 'marking', 'preoccupation', 'pigment', 'winked', 'dialect', 'glowing', 'ironic', 'tribes', 'sailed', 'furiously', '250', 'scottish', 'agreeable', 'archbishop', 'lolotte', 'butcher', '99', 'bronchioles', 'des', 'broaden', \"bull's-eye\", 'barrier', 'proclaimed', 'willingness', 'creed', 'sore', 'harness', 'discharged', 'chuckled', 'withdrew', 'filly', 'swadesh', 'sweeping', 'coin', 'wyoming', 'leisure', 'deduction', 'michael', 'hymn', 'imperative', 'accompany', 'regret', 'bees', 'chill', 'conceptions', 'randolph', 'trio', 'detected', \"university's\", 'lovers', 'escort', 'franks', 'panting', 'morphophonemics', \"other's\", 'constituted', 'grips', \"town's\", 'pony', 'installation', 'coward', 'delivering', 'elevated', 'glove', 'taxable', 'hague', 'blades', 'pedersen', 'broadcasting', 'toll-road', '18th', 'limiting', 'dinners', 'dorset', 'mortality', 'drum', 'patriotic', 'demon', '1/4', 'witnessed', 'evans', 'connally', 'reservations', 'weights', 'magnetism', 'grandmother', 'immensely', 'barbed', 'eyebrows', 'actively', 'packard', 'compression', 'symposium', 'kearton', 'calmly', '17th', 'twisting', 'entertaining', 'magnum', 'conscientious', 'drastic', 'sands', 'syllables', 'molecules', 'coupling', 'embarrassment', 'delegate', 'forceful', \"shakespeare's\", 'theaters', 'electrons', 'conquest', 'turtle', '3,000', 'surveyed', 'one-half', 'carnival', 'brazil', 'overboard', 'commissions', 'authoritative', \"island's\", 'christiana', 'acquiring', 'meteorites', 'flu', 'volunteer', 'agony', 'tech', 'super-set', 'midwest', 'alveolar', 'negotiate', 'fiedler', 'eromonga', 'invasions', 'floating', 'statewide', 'untouched', 'await', 'mill', 'fragments', \"trevelyan's\", 'thermometer', 'wept', 'currency', 'solids', 'energetic', 'athlete', 'derives', \"jack's\", 'gifts', 'verses', 'veranda', 'plotted', 'argues', 'specialization', 'albumin', 'stability', 'guarantee', 'fighter', 'objections', 'decency', 'positively', 'fbi', 'modes', 'plasma', 'vividly', 'thy', 'rusk', 'commanding', 'mates', 'monkey', 'unite', 'richardson', 'revival', 'reviewing', 'momentous', 'bastard', 'deposited', 'owe', 'representations', 'resource', 'multiplying', 'decoration', 'trigger', 'cooked', 'focused', 'raced', 'apportionment', 'strode', 'marvin', 'ontological', 'grinding', 'indignation', 'apprehension', 'simplify', 'accounting', 'rabbit', 'traps', 'prints', 'topic', 'chien', 'dose', 'heavenly', 'pentagon', 'consonantal', 'conflicts', 'gordon', 'retrieved', 'fresco', 'evils', 'employing', 'adventure', 'purple', 'nailed', 'subordinates', 'motivation', 'soaking', 'brood', 'premium', 'emerson', 'claude', 'saloons', 'topics', 'pp.', 'superbly', 'dramatically', 'fiat', 'va', \"girl's\", 'cynical', 'pleasantly', 'adherence', 'awoke', 'thigh', 'rookie', 'gazette', 'retains', 'larry', 'automotive', 'travelers', 'tax-free', 'newt', 'razor', 'mailing', 'neglect', 'indictment', 'proprietor', 'planted', 'creates', 'jubal', 'ions', 'landed', 'ross', 'etcetera', 'poised', 'overcast', 'terrace', 'thumb', 'processed', 'pbs', 'bites', 'hint', 'contention', 'unification', 'fatigue', 'void', 'utilized', 'carriers', 'accord', 'tolerant', 'spur', 'public-limit', 'shaft', 'misery', 'noticeable', 'illiterate', 'glaze', 'dispelled', 'pam', 'stag', 'evangelism', 'declare', 'blatz', 'comforting', 'adopting', 'hypocrisy', 'russell', 'reminder', 'cyclist', 'borne', 'defy', 'closest', 'collections', 'morally', 'incapable', \"mike's\", 'ionic', 'bumblebees', 'congratulations', 'linguistic', 'raucous', 'assemble', 'han', 'wicked', 'mound', 'premises', 'cubist', 'innovation', 'braque', 'mob', 'brighter', 'witty', 'sanctions', 'clicked', 'dreadful', 'spared', 'conversely', 'aaron', 'twenty-two', 'preference', 'acquaintance', 'medal', 'prose', 'quartet', 'floated', 'caring', 'rigidly', 'judy', 'artie', 'schaffner', 'toss', 'varieties', 'joel', \"here's\", 'pricing', 'bin', 'dumont', 'ph', 'huddled', 'crowned', 'integrated', 'fabrication', 'three-dimensional', 'packaging', 'oval', 'removing', 'announcing', 'inward', 'orbits', 'extensions', '1861', 'appropriations', 'sterile', 'cease-fire', 'italians', 'westward', 'flock', 'meters', 'corpse', 'flannagan', 'sorrow', 'presses', 'precaution', 'conclusively', 'congruence', 'holland', 'clamped', 'stillness', 'stimulating', 'editions', 'injuries', 'cincinnati', 'australia', 'exaggerate', 'gracious', 'churchyard', 'graves', 'ankle', 'obstacles', 'potentially', 'utilizing', 'intake', 'calories', 'teamsters', 'respondent', 'graduation', 'jenny', 'tolerance', 'ingenious', 'aia', 'withheld', 'comparing', 'guideposts', 'civilized', 'assuring', 'restaurants', 'sings', 'kayabashi', 'bony', 'stupidity', 'declarative', 'equate', 'alteration', '2:37', 'exploit', 'casually', 'pennant', 'analyze', 'arizona', 'commuter', 'vastly', 'overlooked', 'courtyard', 'blooming', 'meteoritic', 'irrational', 'molds', 'spy', 'garland', 'rite', 'grammatical', 'revision', 'crossroads', 'entirety', 'pants', 'jist', 'bubble', 'revive', 'prevents', 'postpone', 'vent', 'catastrophe', 'taxing', 'architectural', 'versions', 'restorative', 'buddha', 'stacked', 'tailored', 'conrad', 'psychologists', 'deductions', 'staffs', 'raged', 'quirt', 'ruanda-urundi', 'examining', 'impassioned', 'frowned', 'indicators', 'slapped', 'buckskin', 'slightest', 'efficiently', 'outright', 'tactical', 'histories', 'crisp', 'yorker', 'depended', 'radish', 'alma', 'incidents', 'ruins', 'n.c.', 'thirties', 'sprawled', 'rigorous', 'roaring', 'log', '180', 'recommending', 'precinct', 'zeal', 'wrinkles', 'allotted', 'sizes', \"1/2''\", 'boa', 'indonesia', 'hereby', 'yugoslav', 'charging', 'lure', 'heed', 'confess', 'toilet', 'antagonism', 'text-form', 'forbes', 'drastically', 'tenth', 'decorations', 'anna', 'govern', 'dense', 'preoccupied', 'confront', 'inauguration', 'snapping', '$1,000', '2,000', 'monotonous', 'bluntly', 'relish', 'poorly', 'undergone', '150', 'ellen', 'sigh', 'picturesque', 'scars', 'genuinely', 'differs', 'defendants', 'bail', 'rockets', 'inescapable', 'aggregate', 'hammer', 'endlessly', 'urges', 'deed', 'enduring', 'seaman', 'coronary', 'accumulated', 'schweitzer', 'unavailable', 'coloring', 'lone', 'tammany', 'trophy', 'shann', '25,000', 'eminent', 'feeble', 'brutal', 'consultation', 'questionable', 'patricia', 'c-plane', 'hino', 'jammed', 'murdered', 'middle-aged', 'molesworth', 'anguish', 'claimant', 'broadened', 'linden', 'barred', 'n.y.', 'monuments', 'wreck', 'menace', 'arcs', 'diagnostic', 'appliances', 'contributes', 'barefoot', 'half-man', 'memphis', 'agrarian', 'ancestry', 'robards', 'attorneys', 'fraud', 'underdeveloped', 'labeled', 'complicity', 'spherical', 'comic', 'cerebral', 'reckless', 'pinched', 'glancing', 'carrier', 'multiplicity', 'f{t}', 'hips', \"she'll\", 'pump', 'emptied', 'high-pitched', 'wisely', 'skinny', 'scandals', '1937', '1938', 'hanged', 'symbolize', 'resin', 'secede', 'monetary', 'proportionate', 'vince', 'eden', 'spirited', 'agrees', 'embarrassed', 'drilling', 'prosecutor', 'satire', 'aperture', 'reins', 'beans', 'super', 'analyses', 'plentiful', 'indebted', 'patiently', 'psychoanalytic', \"hetman's\", 'marital', 'vaginal', 'statesmen', 'rumor', 'patronage', 'restore', 'vegetable', 'stalked', 'somers', 'bounce', 'toe', 'trailing', 'cathedral', \"ladies'\", 'backgrounds', 'evidenced', 'corrected', 'sipping', 'grudge', 'resembled', 'melodies', 'hamlet', 'merry', 'grotesque', 'aide', '90', 'relied', 'parasympathetic', 'tremendously', 'zone', \"chicago's\", 'texans', 'penetrated', 'yokuts', 'coping', 'timely', 'burr', 'sympathize', 'agreeing', 'aerated', 'half-hour', 'infection', 'shaefer', 'hopefully', 'pillow', 'seriousness', 'unsatisfactory', 'metals', 'worthwhile', '10-year', 'replacing', 'bankers', 'sewing', 'brandt', 'trusted', 'rehearsed', 'streak', 'inspiring', 'ragged', 'assemblies', 'troublesome', \"states'\", 'simplified', 'wardrobe', 'seam', 'inhuman', 'clergyman', 'awaited', 'slab', '24-hr.', 'banner', 'bouncing', 'secrecy', '33', 'bryan', 'sped', 'gall', 'proteins', 'digging', 'seams', 'wary', 'battles', 'confronting', 'twenties', 'launch', 'spontaneously', 'curtains', 'shelf', 'delinquency', \"garibaldi's\", 'unsuccessful', 'convertible', \"patchen's\", 'eventual', 'descent', 'generate', 'carefree', 'awaken', 'unmistakable', 'peterson', 'powdered', 'schedules', 'dependable', 'jokes', 'unfamiliar', 'theologians', 'extruded', 'styrene', 'unhappily', 'squat', 'muller', \"car's\", 'headlights', 'constantine', 'marched', '2%', 'swell', 'invite', 'mccarthy', 'communicating', 'wallpaper', 'yang', 'spreads', 'smoked', 'scratch', '85', 'examinations', 'wales', 'apple', 'tapped', 'exclusion', 'ascertain', 'titan', 'repel', 'spat', 'cleaners', 'mutton', 'mel', 'repaired', 'costaggini', 'theft', 'doll', 'nonetheless', 'drained', 'orthodontist', 'engagements', 'featured', 'destined', 'careless', 'grocery', 'distaste', 'well-being', 'flooded', 'hawksley', 'cd', 'boiling', 'doomed', 'melted', 'groupings', 'lakes', 'salad', 'tallyho', 'copernican', 'sporting', \"church's\", 'deficiency', 'tyranny', 'wreath', 'gubernatorial', 'sentiments', 'dunes', 'loads', 'epidemic', 'festivities', 'sensing', 'drifting', 'descended', 'condensed', 'rogers', 'microscope', 'sioux', 'raid', 'gracefully', 'guts', 'gibson', 'sixty-five', 'surgeon', 'radius', 'muttering', 'taiwan', 'singer', 'anxiously', 'unavoidable', '350', 'weird', 'systematically', 'container', 'commodity', '2:35', 'witches', 'airplanes', 'exploited', 'anticipate', 'kidding', 'jig', 'resent', 'littlepage', 'freshman', 'subsistence', 'baroque', 'wider', 'format', 'preach', 'palatability', 'donovan', 'plowing', 'sociological', 'recruits', '1923', 'scar', 'nickname', 'pleasing', 'prominently', 'unpaid', 'gigantic', 'crawl', 'aggression', 'distal', 'maurice', 'install', 'deeds', 'alarmed', 'refrain', 'engage', 'missionaries', 'mentioning', 'generalized', 'dulles', 'notorious', 'fake', 'pacing', 'transform', 'potent', 'precarious', 'civilizational', 'burnside', 'sentenced', 'similarity', 'subspace', 'robbed', 'exert', 'ensemble', 'requesting', 'basin', 'crawling', 'bum', 'norm', 'rosy', \"alex's\", 'karl', '1921', 'macklin', 'distilled', 'contrasting', 'bestowed', 'directory', 'catalogue', 'graceful', \"meeker's\", 'slaughter', 'hitler', 'sprinkling', 'beauclerk', 'resumption', 'sheldon', 'fare', 'con', 'kohnstamm-negative', 'barge', 'charity', \"else's\", 'commercials', 'trousers', 'steeple', 'gasoline', 'electrostatic', 'complaints', 'shea', 'nightmare', 'diversified', 'diamond', 'organisms', 'sealed', 'cruz', 'moods', 'eased', 'peers', 'rated', 'ellis', 'focal', 'wearily', 'tunnel', 'reassuring', 'bloc', 'trapped', 'expose', 'borrowing', \"brother's\", 'sampled', 'anatomical', 'visions', 'locker', 'wheeled', 'spoilage', 'pour', 'allotments', 'putt', 'berry', 'glue', \"goin'\", 'prompt', 'infant', 'honoring', 'resisted', 'commentary', 'grunted', 'crimson', 'retaining', 'renewal', '$1', 'shoved', 'spectator', 'fragile', 'precedent', 'elastic', 'slump', 'obscured', 'rejection', 'k', 'formulated', 'motivated', 'seeks', 'jointly', 'whirling', 'sporadic', 'peering', 'simmons', 'assumes', 'voluntarily', 'clerks', 'dividends', 'rendezvous', 'norton', 'evanston', 'warming', 'strive', 'cleaner', 'inclination', 'charley', '48', 'totaled', 'counseling', \"1920's\", 'simultaneous', 'bless', 'victoria', 'stiffened', 'suds', 'marvelous', 'soloist', 'mastery', 'noel', 'applicant', 'weaker', 'releases', 'acknowledge', 'privileged', 'devoting', 'afloat', 'periodic', 'polls', 'plank', 'reservoir', 'tops', '37', 'jastrow', 'footsteps', 'draped', 'exuberant', 'murray', 'saxons', 'savannah', 'persuasion', 'restrictive', 'pensions', 'foamed', 'interviewed', 'boldly', 'incredibly', 'negotiating', 'barren', 'wrath', 'schoolhouse', 'provocative', 'lower-class', 'diminishing', 'muffled', 'manipulation', 'op.', 'accreditation', 'redcoats', 'jenkins', 'isolate', 'expressway', 'meeker', 'economies', 'generalizations', 'pardon', 'excitedly', 'undertook', 'mamma', 'dusk', 'broadly', 'gradient', 'ration', 'mckinley', 'feminine', 'crusade', 'reject', 'assisted', 'carnegie', '1925', 'advise', 'revulsion', 'brandon', 'infringement', 'attendance', 'unnatural', 'balloon', 'minus', 'halfback', 'angelo', 'supplements', 'vinegar', 'upside', 'canvases', 'paramount', 'karns', 'sweetheart', 'mccormick', 'bust', 'maneuvers', 'papal', 'creeping', 'biwa', 'perpetual', 'dazzling', '100%', 'peaks', 'bounded', '19th', 'colonies', 'egg', 'narrowed', 'coals', 'distortion', 'rankin', 'thieves', 'attacking', 'destination', 'retire', 'anatomy', 'initiation', 'courtesy', 'englishmen', 'abstractions', 'plight', 'glen', 'exceptionally', '1963', '$50', 'compiler', 'engaging', 'trailer', 'induce', 'dwell', 'willow', 'tractors', 'filter', 'kings', 'von', 'instinctively', 'trotted', 'retention', 'post-war', 'chimney', 'guardian', 'violet', 'broadening', \"curt's\", 'proxy', 'elephant', 'depicted', 'realistically', 'cologne', 'holden', 'gaiety', 'picking', 'ballroom', 'doaty', 'ballad', \"greg's\", 'implying', 'sr.', 'architects', 'unload', 'scandal', 'teaches', 'faithful', 'experimentally', 'discs', 'scout', 'oats', 'polar', 'compute', 'revolutions', 'mock', 'underneath', 'atmospheric', 'horizontal', 'junk', 'centimeters', 'bermuda', 'towne', 'municipalities', 'guild', 'flatness', 'cough', 'earthquake', 'imported', 'boycott', 'meynell', 'predictable', 'sabella', 'lyrical', 'slack', 'herb', 'firearms', 'forensic', 'oysters', 'germanic', 'sorbed', 'shortstop', 'diamonds', 'reign', 'dimensional', 'spiral', 'enrolled', 'oliver', 'immediacy', '1914', 'cares', 'compulsory', 'compressed', 'census', '0.1', 'knuckles', 'perceptions', 'dividing', 'radiopasteurization', 'hostess', 'postponed', 'ants', 'quantitative', 'dame', 'gymnastics', 'insistent', 'pleaded', 'coffin', 'differed', 'formulate', 'recreational', 'heiser', 'inviting', 'repeal', 'narcotics', 'elegance', 'unconcerned', 'martyr', 'curved', 'coins', 'elephants', 'pulse', 'steak', 'actives', 'canadian', 'docherty', 'despise', 'bronx', 'forgetting', 'simplest', 'lexington', 'straightforward', 'notices', 'latent', 'clutched', 'indifferent', 'garbage', 'easter', 'insists', 'executives', 'champions', 'persisted', \"mann's\", 'catatonia', 'absurdity', 'doubted', 'landmarks', 'comprised', 'guiding', 'princeton', 'fertility', 'coats', \"secretary's\", 'arithmetic', 'microscopic', 'criminals', 'punished', 'workbench', 'immortal', 'sentry', 'poignant', 'yearning', 'orvis', 'hinted', 'predecessors', 'reduces', 'andrena', 'cheese', 'haunting', 'pet', 'succeeds', \"who'd\", 'clinging', 'ibm', \"milton's\", 'taut', 'relinquish', 'qualification', 'embassies', 'haze', 'pierce', 'caesar', 'orthography', 'mediterranean', 'glaring', 'dock', 'cutters', \"officers'\", 'pretentious', 'misplaced', 'upturn', '**yf', 'bey', 'generators', 'micrometeorite', 'continuum', 'aerial', 'shattering', 'arm-elevation', 'conflicting', 'exceedingly', 'antelope', 'j', 'slips', 'generously', 'casts', 'demonstrates', 'riot', 'accelerometers', 'scratches', 'paralysis', 'intensification', 'photography', 'percentages', 'suspicions', 'hr', 'shoreline', 'intends', 'tax-exempt', 'outlet', 'erupted', 'flour', 'pathological', 'ryusenji', \"somebody's\", 'chairmen', 'denominational', 'envy', 'protesting', 'equity', 'talented', 'grief', 'jerusalem', 'resemble', 'adolescents', 'jarrodsville', 'mornings', 'secretaries', 'affectionate', 'lbs.', 'rattling', 'dissatisfaction', 'contend', 'pitchers', 'frenzy', 'shaw', 'ketosis', 'cite', 'rub', 'convict', 'angrily', 'persists', 'southward', 'boulevard', 'expresses', 'stunned', 'one-fourth', 'relate', 'serial', 'hesitation', 'voltaire', 'athens', 'practiced', 'beech', 'inaugural', 'saga', 'pumping', 'reassurance', 'simulated', 'skillful', 'petty', 'arp', 'depicting', 'modify', 'shaping', 'guessing', 'sincerely', 'demographic', 'southerner', 'treacherous', 'pasadena', 'rags', 'portraits', 'ruthless', 'ugliness', 'roberta', 'candidacy', 'udall', 'mussorgsky', 'chords', 'manifested', 'reservation', 'mg', \"son's\", 'countenance', 'reportedly', 'indecent', 'strays', 'collector', 'centrally', 'palestine', 'meyer', 'debates', 'tex.', 'myriad', 'traveler', 'calhoun', 'concessions', 'wander', 'appetite', 'brushing', 'buses', 'parkway', 'jacques', 'wounds', 'sesame', 'dilution', 'wandered', 'metabolite', 'prey', 'triumphantly', 'deprived', 'thanksgiving', \"washington's\", 'pre-war', 'clapping', 'goat', 'pretended', 'blaze', 'orgasm', 'admirably', 'sophistication', 'watered', 'avoidance', 'librarians', 'salaries', 'forty-five', 'diagram', '1815', 'palms', 'reactor', 'fashioned', 'giles', 'refugees', 'signing', 'suspense', 'unbearable', 'tunes', 'gait', 'booked', 'additions', 'decreased', 'enforce', 'nevada', 'privacy', 'wishful', 'elizabethan', 'knelt', 'slate', 'bolted', 'hawthorne', 'indulge', 'cheer', 'interlocking', 'constrictor', 'coconut', 'explicitly', 'two-story', 'susceptible', 'out-of-state', 'divides', 'separating', 'stole', 'reflexes', 'out-of-town', 'peeling', 'lookup', 'clad', 'garments', 'solving', 'unrelated', 'forge', 'visibly', 'brethren', 'attribute', 'generosity', 'duplication', 'subway', 'sailors', \"oersted's\", 'lucia', 'incidence', 'shield', 'diarrhea', 'pilots', 'sensibility', 'mildly', 'gyro-stabilized', 'tiger', 'writhing', 'neurotic', 'complied', 'ink', 'erotic', 'distributor', 'goodbye', 'shearing', 'zenith', 'chic', 'consensus', 'messenger', 'rocky', 'sloping', 'terrain', 'invent', 'breathed', 'deterrent', 'thanked', 'carving', 'scratched', 'cave', 'wears', 'inmates', 'busily', 'probation', 'predominantly', 'exploded', '40%', 'concessionaires', 'mast', 'greasy', 'micelle', 'emotionally', 'supplemented', 'manual', 'predispositions', 'enact', 'pipeline', 'lease', 'charts', 'charted', 'posted', 'carriages', 'kehl', 'commanders', 'greet', 'publisher', 'persecution', 'westfield', 'projecting', 'chilled', 'brakes', 'basketball', 'noses', 'discontinued', '1936', 'interchange', 'attends', 'councils', 'smoking', 'reckon', 'frenchman', 'coordinates', 'potters', 'argon', 'faulty', 'credo', 'impartial', 'comprehension', 'maria', 'reflective', 'financially', 'propulsion', 'symmetry', 'sprouting', 'registry', 'comparisons', 'traces', 'blown', 'mails', 'gratitude', 'fights', 'cf.', 'detectable', 'responding', 'worldly', 'irresistible', 'dealings', 'axe', 'co-operative', \"hitler's\", 'fosdick', 'gore', 'importantly', 'termination', 'essays', 'shortened', 'recognizable', 'canning', 'warmly', 'vulgar', 'fiery', 'apron', 'fuller', 'admitting', 'inscribed', 'fundamentally', 'deja', 'peculiarly', 'humidity', 'invalid', 'handler', 'ledger', 'undergraduates', 'one-inch', 'mahogany', 'keel', 'legislator', 'volley', 'sword', 'disgusted', 'reversing', 'burdens', '1905', '$10', 'non-violent', 'lowell', 'productions', 'unprepared', 'chains', 'olympic', 'jam', 'robbins', 'hysteria', 'accusing', 'kodyke', \"master's\", 'numbered', 'eh', 'submitting', 'possesses', 'irons', \"william's\", 'feather', 'roebuck', 'circled', 'environmental', 'indicator', 'cycles', 'sterling', 'dogtown', 'spaced', 'ankles', 'gadgets', 'searched', 'lt.', 'multiplied', 'dismal', 'cortex', 'lessening', 'perfume', 'reputable', 'intensifier', 'recital', 'listing', 'armstrong', 'meek', 'iodinated', 'margins', '47', 'colts', 'gravity', 'old-fashioned', 'woven', 'kyoto', 'nara', 'interviewing', 'en', 'dip', 'discernible', 'rustling', 'expandable', 'threads', 'polymerization', 'insofar', 'cottages', 'thief', 'digital', 'packaged', 'mint', 'illustrative', 'offset', 'disregard', 'investigating', 'relic', 'propagation', 'inactive', 'ox', 'sickness', 'soprano', 'textures', 'tories', 'easiest', 'revenge', 'stamped', 'irregular', 'mg/l', 'kissing', 'solo', 'jenks', 'cargo', 'acetate', 'dowex-2-chloride', 'refuses', 'victorian', 'chocolate', 'macneff', 'pessimism', 'archaeological', 'compliance', 'hierarchy', 'a.d.', 'focusing', 'contemptuous', 'gloves', 'symmetric', 'irregularities', 'masonry', 'cushion', 'carcass', 'auxiliary', 'liaison', 'discomfort', 'relegated', 'themes', 'constants', 'bucket', '9th', 'cruising', 'marina', 'foe', 'hebrew', 'injection', 'posterior', 'esprit', 'pilgrims', 'vaults', 'donated', 'bankruptcy', 'entrepreneur', 'bureaucracy', 'pastoral', 'flourished', 'tune', 'prompted', '95', 'galaxies', 'provoked', 'proprietorship', 'yin', 'geometry', 'pearl', 'warmed', 'rays', 'youngster', 'recalling', 'trooper', 'assistants', 'jen', 'hound', 'manifest', 'grinning', \"krim's\", 'umbrella', 'preferences', 'flowering', 'junction', 'surveying', 'ivy', 'murphy', 'workshops', 'restriction', 'scraped', 'marie', 'la.', 'tackle', 'uphold', 'mollie', 'anastomoses', 'slogan', 'ns', 'pets', 'salami', 'protestantism', 'soiled', 'slug', 'offense', 'linen', 'lad', 'swedish', 'staggering', 'prevot', 'graveyard', 'guarantees', 'forties', 'lilian', 'jed', 'proposes', 'exemption', 'array', 'polyether', 'accidental', \"mantle's\", 'submerged', 'islanders', 'quarry', 'construed', 'terrifying', 'strikingly', 'greer', 'stain', 'engendered', 'lapse', 'rag', 'condensation', 'budapest', 'nikita', 'persian', 'residue', 'whistled', 'calibration', 'figuring', 'scrap', 'numbering', 'floods', 'consolidation', 'rescued', 'pleura', 'conform', 'barley', 'heartily', 'gloucester', 'discrete', 'manley', 'typing', 'saints', 'delta', 'convincing', 'puppet', 'retaliation', 'invested', 'knives', 'facility', 'trans-illuminated', 'lenin', 'eagles', 'concord', 'plywood', 'discontent', 'enlightened', 'robe', 'spine', 'elicited', 'r-stage', 'refined', 'biology', 'reproduce', 'unwilling', 'postcard', 'hemphill', 'admire', 'piers', 'othon', 'julian', 'wheat', 'polite', 'venice', 'aerosol', 'bazaar', 'paradox', '$200', 'bong', 'plots', 'dwellings', 'gala', 'chanted', 'extremes', 'sixteenth', 'kindly', 'reviews', 'pollock', 'glare', 'ferguson', 'longing', 'unmarried', 'nagging', 'huts', 'seattle', 'burke', 'flair', 'storms', 'dismissal', 'digby', 'assessments', 'assimilation', 'frontage', 'proposing', 'solicitor', 'blossom', 'interfere', 'distressing', 'supporters', 'ensure', 'pretend', 'harriet', 'saturated', 'stumbling', 'dashed', 'geological', 'positivist', 'arena', 'snack', 'photos', 'fletcher', 'coaching', 'housekeeping', 'frankfurt', 'unchanged', 'inference', 'presiding', 'outboard', 'compares', 'ft.', 'obeyed', 'perceptual', 'indicative', 'conspicuously', 'surroundings', 'elders', 'weeping', 'remedies', 'chili', '7:30', 'interfaith', 'perennial', 'fille', 'reflections', 'divorced', 'resented', 'spraying', 'agitation', 'nogol', 'departures', 'switching', 'symphonic', 'bathed', 'stretches', 'waged', 'nashville', 'compost', 'kirov', 'bias', 'unpopular', 'penetrate', 'gunfire', 'tactual', 'endure', 'tonal', 'loneliness', 'belts', \"party's\", 'exotic', 'barnes', 'shout', 'brahms', 'securities', 'barney', 'prosecution', 'siddo', 'astonishing', 'workmen', 'compiled', 'assures', 'poetics', 'scrub', 'wisman', 'outlets', 'postal', 'denotes', 'hip', 'self-determination', 'charting', 'evaluating', 'slipping', 'thornburg', 'squall', 'populations', 'faults', 'dwelling', 'gestures', 'stimulated', 'hickory', 'rexroth', 'nobel', 'resignation', 'crippling', 'sucking', 'appreciably', \"artist's\", 'shrewd', 'decks', 'acre', 'statutes', 'neutralist', 'mask', 'caravan', 'hears', 'strengthening', 'burgundy', 'dakota', 'furious', 'cigar', 'coarse', 'gatherings', 'misleading', 'transmitted', 'corresponds', 'accessories', 'ancestors', 'modernity', 'closes', 'hillside', 'interpreter', 'folly', 'dispersed', 'plague', 'wrecked', 'omitting', 'antithyroid', 'knot', 'coordinate', \"where's\", 'francesca', 'ultrasonic', 'barber', 'fatty', 'peer', 'hooked', 'slower', 'buckley', 'oven', 'centennial', 'efficacy', 'wholesale', 'upheld', '$2,000', 'prevailed', 'tease', 'noisy', 'forte', 'mating', 'caps', '5,000', 'capone', 'booth', 'loom', 'earthquakes', \"club's\", 'origins', 'offensive', 'embodiment', 'facto', 'licensing', 'anti-communist', 'centrifuged', 'edged', 'commencing', 'fruitful', 'alterations', 'lamb', 'zing', 'fortified', 'confinement', 'cylinders', 'attained', 'bachelor', 'evolved', 'magical', 'spacing', 'sonata', 'hastened', 'maze', 'weakening', 'confidential', 'specifications', 'drafting', 'rodgers', 'forks', 'involution', 'divinity', 'traditionally', 'retiring', 'leaf', 'displeased', 'packages', \"author's\", 'gonzales', 'sidney', 'tucked', 'germanium', 'activation', 'gaunt', 'bellows', 'concluding', 'stunning', 'hood', 'sophia', 'preferable', 'reconnaissance', 'sinner', 'clause', 'wink', 'troopers', 'non-catholic', 'vengeance', 'chromatic', 'masculine', 'tenor', \"morgan's\", 'skins', 'permitting', 'terrier', 'beset', 'finishing', 'merchandise', \"charles'\", 'publicized', 'bugs', 'good-bye', 'tracks', 'minced', 'tablespoons', 'blazing', 'tearing', '1832', 'revolt', 'awaiting', 'berman', 'disclose', 'elaborately', 'amplified', 'towel', 'veil', 'fabulous', 'hearings', 'stairway', 'cardinals', 'rally', 'softened', 'alternately', \"palmer's\", 'sherry', 'mao', 'pasted', 'socialization', \"bultmann's\", \"malraux's\", 'photochemical', 'immunity', 'lilly', 'diana', 'actress', 'matson', 'hiring', 'soak', 'testify', 'cannon', 'nebraska', 'circus', 'righteousness', 'ant', 'gratt', 'elect', 'winner', 'posed', 'lore', 'credits', 'radios', 'obey', 'militant', 'ramp', 'lifting', 'occupying', 'strangled', 'slippers', 'errand', 'dots', 'proportionately', 'supportive', 'consumers', 'butyrate', 'ambivalent', 'banquet', '100,000', 'heightened', 'quantities', 'topped', 'brandywine', 'rooney', 'antenna', 'everlasting', 'undermine', 'foaming', 'celestial', 'clergymen', 'dignified', 'provincial', 'contracted', 'superimposed', 'satellite', 'warriors', 'weakened', 'social-class', 'fronts', 'materialism', 'humiliation', 'nodding', 'confines', 'responds', 'airy', 'victories', 'forsythe', 'callous', 'hunted', 'assessed', 'tumors', \"welch's\", 'interdependent', 'logs', 'btu', 'physicians', 'banished', 'conveyed', 'rulers', \"bang-jensen's\", 'strewn', 'disappearance', 'tshombe', 'gnp', 'veiled', 'rude', 'yourselves', 'diffraction', 'concentrating', 'impatiently', 'budgeting', 'recipient', 'niece', '110', 'coincided', 'newark', 'adlai', 'evoke', 'hamrick', 'typewriter', 'tricks', 'wolf', \"georgia's\", 'versa', 'exhibiting', 'hose', 'hernandez', 'scholarships', 'breeding', 'vowel', 'intonation', 'terraces', 'dominion', 'introducing', 'augmented', 'cartridge', 'consequent', 'trusts', 'aiding', 'precautions', 'nicely', 'puny', 'o.k.', 'blake', 'papa-san', 'restrain', 'rangoni', '4th', 'half-mile', 'attractions', 'hauled', 'profoundly', 'seizure', 'arches', 'elbows', '1922', 'subjectively', 'logically', 'elec', 'declares', 'salesmanship', 'scholarly', 'sixty-one', 'retarded', 'mousie', 'bricks', 'cork', 'cling', 'planter', 'governors', 'rebuilding', 'forefinger', 'tagged', 'subsidiary', \"copernicus'\", 'trumpet', 'shrill', 'uranium', 'immigration', 'refreshing', 'sane', 'recruitment', \"artists'\", 'large-scale', 'quarterly', 'spiritually', 'openings', 'geely', 'danish', 'plantations', 'rack', 'vanity', 'bruises', 'suggestive', 'aborigine', 'decorative', 'pitched', 'workmanship', 'dialogue', 'quivering', 'harrington', \"nick's\", 'accomplishments', 'bitch', 'furnace', 'refugee', 'ordinance', 'attire', 'execute', 'meadows', 'restraints', 'meter', 'blindly', 'twenty-one', 'liable', 'surface-active', 'cartoons', 'socks', 'licensed', 'vines', 'scarce', 'merge', 'fulfill', 'notre', 'assertion', 'defendant', 'psyche', 'sympathies', '203', 'prosperous', 'impelled', 'sax', 'potency', 'b-52', 'excluded', 'invisible', 'flooring', 'streaming', 'turbine', 'musket', 'bargain', 'percussive', 'clouded', 'skipped', 'stir', 'blend', 'intuitive', 'peril', 'denies', \"enemy's\", '74', 'prevail', 'tart', '1105', 'stewart', 'nominated', 'invites', 'stud', 'devise', 'ptolemy', 'cousins', 'week-end', 'deduced', 'configuration', 'elementary-school', 'expressive', 'unexpectedly', 'inaction', 'frighten', 'peanut', 'toothbrush', 'presenting', 'complexes', 'dividend', 'dessert', 'attaining', 'sac', 'heidenstam', 'tangents', 'garment', 'prevails', 'pelts', 'turnpike', 'fraternity', 'newcomers', 'condemnation', 'appraisal', 'horns', 'yields', 'chore', 'carbine', 'inferior', 'hoofs', 'slacks', 'lb', 'cured', 'countrymen', 'unitarian', 'doolin', 'upkeep', 'abundant', 'presentations', 'chattering', 'bloat', 'babe', 'receipts', \"player's\", 'flowed', 'cooks', 'magnificently', 'wiser', 'thelma', 'restoring', 'spoiled', 'vermejo', 'intimately', \"ruth's\", 'thinner', 'zion', 'bending', 'lacks', 'tails', 'irritation', 'advisors', 'transports', 'shrink', 'skiing', 'tuxapoka', 'tightened', 'molotov', 'del', 'restraining', 'diocesan', '68', 'acreage', 'impeccable', 'displaying', 'larvae', 'despotism', 'proprietors', 'attachment', 'corral', 'manifestation', 'dei', 'membrane', 'walitzee', 'arbiter', 'buddies', 'chiefs', 'urbanization', 'hotter', 'denounced', 'unscrupulous', 'diplomats', 'extract', 'choked', 'modifier', 'aborigines', 'rotated', 'torque', 'contributors', 'primacy', 'passport', 'intersect', 'advancement', 'buckle', '10%', 'nation-state', 'feudal', 'claimants', 'geographically', 'syndicate', 'understands', 'infield', 'writ', 'schooling', 'frigid', 'correction', 'practitioners', 'theoretically', 'chestnut', 'outdoors', 'juan', 'ultracentrifugation', 'snelling', 'clerical', 'detecting', 'calves', 'aiming', 'bookkeeping', 'challenged', 'amorphous', \"corporation's\", 'morals', 'negligible', 'novelties', 'impaired', 'glistening', 'grease', 'mouths', 'kinetic', 'scoring', 'truthfully', '353', 'confederacy', 'all-negro', 'tapping', 'martinelli', 'corrupt', 'haunted', 'hough', 'adapt', 'prominence', 'levers', 'ernst', 'contemplating', 'goulding', 'pedestal', 'revisions', 'sighted', 'idol', 'sundown', 'pakistan', 'educate', 'drawers', 'haul', 'lynn', 'flared', 'mourning', 'clocks', 'frantically', '1928', 'fe', 'biting', 'shotgun', 'conferred', 'congressmen', 'momentarily', 'vesole', 'disseminated', 'gallium', 'dozed', 'begotten', 'wooded', 'macbeth', 'volunteered', 'blunt', 'promotional', 'blinked', 'arrows', 'motels', 'cubans', 'committing', 'managing', 'insufficient', 'barth', 'variously', 'courtier', 'all-important', 'buggy', 'developmental', 'editing', 'briskly', 'makeshift', 'susie', 'deposit', 'scornful', 'territories', 'tangled', 'moody', 'pathetic', 'weekends', 'candles', 'minors', 'sleepy', 'arnolphe', 'bluff', 'ever-present', 'pillars', 'oddly', 'premise', 'unwittingly', 'disinterested', 'immoral', 'noblest', 'swooped', 'levy', '1040', 'oso', 'rented', 'deterministic', 'beatrice', 'lambs', 'two-year', 'newborn', 'aeration', 'bunched', 'recovered', 'buns', 'duclos', 'academically', 'gorboduc', 'wage-price', 'fisherman', 'triumphant', 'portrayal', 'maguire', 'situs', 'bivouac', 'narrower', 'mando', 'tentatively', \"sherman's\", 'paired', 'utmost', 'engages', 'lyttleton', 'predecessor', 'medicines', 'charitable', 'ironically', 'auspices', 'haunches', 'seller', 'shakes', 'lets', 'worlds', 'peck', 'multnomah', 'blizzard', 'fashions', 'hebephrenic', 'gamma', 'earthly', 'popularly', \"o'connor\", 'ashore', 'sofa', 'retreated', 'florence', 'timbers', 'algae', 'abide', 'homogeneous', 'lunar', 'currents', 'senseless', 'repression', 'tolerated', 'clear-cut', 'straightening', 'seasoned', 'hasty', 'clerfayt', 'northerners', \"1/8''\", 'ignition', 'badge', 'defiance', 'thinker', 'acquiescence', 'classify', 'luther', 'cartridges', 'negotiation']\n"
          ],
          "name": "stdout"
        }
      ]
    },
    {
      "metadata": {
        "id": "Hkz403qOVuSP",
        "colab_type": "text"
      },
      "cell_type": "markdown",
      "source": [
        "#### Create vocabulary mappings"
      ]
    },
    {
      "metadata": {
        "id": "EBr_9ByxVuSX",
        "colab_type": "code",
        "colab": {
          "autoexec": {
            "startup": false,
            "wait_interval": 0
          },
          "base_uri": "https://localhost:8080/",
          "height": 36
        },
        "outputId": "57e4ada5-f7a7-4fb4-c314-5479b9f18dbf",
        "executionInfo": {
          "status": "ok",
          "timestamp": 1530187029100,
          "user_tz": -330,
          "elapsed": 901,
          "user": {
            "displayName": "Susanta Biswas",
            "photoUrl": "//lh5.googleusercontent.com/-j4zod5jytCU/AAAAAAAAAAI/AAAAAAAAAMw/oM-QES-nuuY/s50-c-k-no/photo.jpg",
            "userId": "109162984466767800710"
          }
        }
      },
      "cell_type": "code",
      "source": [
        "# create word to index mapping\n",
        "# for every unknown word the dict will give index 1 which is <UNK>\n",
        "word_to_idx = defaultdict(lambda:1, {word:idx for idx,word in tqdm(enumerate(vocab))})\n",
        "# create reverse mapping\n",
        "idx_to_word = {idx:word for word,idx in word_to_idx.items()}"
      ],
      "execution_count": 32,
      "outputs": [
        {
          "output_type": "stream",
          "text": [
            "11002it [00:00, 705818.88it/s]\n"
          ],
          "name": "stderr"
        }
      ]
    },
    {
      "metadata": {
        "id": "dkRN13rmVuSh",
        "colab_type": "text"
      },
      "cell_type": "markdown",
      "source": [
        "#### Create tag mappings"
      ]
    },
    {
      "metadata": {
        "id": "5mBlyt2PVuSk",
        "colab_type": "code",
        "colab": {
          "autoexec": {
            "startup": false,
            "wait_interval": 0
          },
          "base_uri": "https://localhost:8080/",
          "height": 36
        },
        "outputId": "d24f4325-b465-442a-8aca-db64e05540b7",
        "executionInfo": {
          "status": "ok",
          "timestamp": 1530187030875,
          "user_tz": -330,
          "elapsed": 854,
          "user": {
            "displayName": "Susanta Biswas",
            "photoUrl": "//lh5.googleusercontent.com/-j4zod5jytCU/AAAAAAAAAAI/AAAAAAAAAMw/oM-QES-nuuY/s50-c-k-no/photo.jpg",
            "userId": "109162984466767800710"
          }
        }
      },
      "cell_type": "code",
      "source": [
        "# create word to index mapping\n",
        "tag_to_idx = {tag:idx for idx,tag in tqdm(enumerate(all_tags))}\n",
        "# create reverse mapping\n",
        "idx_to_tag = {idx:tag for tag,idx in tag_to_idx.items()}"
      ],
      "execution_count": 33,
      "outputs": [
        {
          "output_type": "stream",
          "text": [
            "14it [00:00, 14884.73it/s]\n"
          ],
          "name": "stderr"
        }
      ]
    },
    {
      "metadata": {
        "id": "Lm904NWEVuSs",
        "colab_type": "text"
      },
      "cell_type": "markdown",
      "source": [
        "### Prepare data for Keras model\n",
        "We will use numerical representation for each word and feed to the model."
      ]
    },
    {
      "metadata": {
        "id": "GFEd6MK1VuSu",
        "colab_type": "code",
        "colab": {
          "autoexec": {
            "startup": false,
            "wait_interval": 0
          }
        }
      },
      "cell_type": "code",
      "source": [
        "# converts the tokens to its numerical representation\n",
        "# output: (m, max sequence length)\n",
        "def convert_to_num(sentences, token_to_idx, pad=0, dtype='int32', time_major=False):\n",
        "    # find the max sentence length\n",
        "    max_sent_len = max(map(len, sentences))\n",
        "    # create the matrix\n",
        "    mat = np.empty([len(sentences), max_sent_len], dtype)\n",
        "    # fill with padding\n",
        "    mat.fill(pad)\n",
        "    \n",
        "    # convert to numerical mappings\n",
        "    for i, sentence in enumerate(sentences):\n",
        "        num_row = [token_to_idx[token] for token in sentence]\n",
        "        mat[i, :len(num_row)] = num_row\n",
        "        \n",
        "    if time_major:\n",
        "        return mat.T\n",
        "    else:\n",
        "        return mat"
      ],
      "execution_count": 0,
      "outputs": []
    },
    {
      "metadata": {
        "id": "Zc6fVA-NVuS0",
        "colab_type": "code",
        "colab": {
          "autoexec": {
            "startup": false,
            "wait_interval": 0
          }
        }
      },
      "cell_type": "code",
      "source": [
        "words_batch, tags_batch = zip(*[zip(*sentence) for sentence in train_data[1:3]])"
      ],
      "execution_count": 0,
      "outputs": []
    },
    {
      "metadata": {
        "id": "8NYcsoRuVuS6",
        "colab_type": "code",
        "colab": {
          "autoexec": {
            "startup": false,
            "wait_interval": 0
          },
          "base_uri": "https://localhost:8080/",
          "height": 92
        },
        "outputId": "eeb1e9c7-44f9-4267-e55d-7196b739bb31",
        "executionInfo": {
          "status": "ok",
          "timestamp": 1530186629065,
          "user_tz": -330,
          "elapsed": 868,
          "user": {
            "displayName": "Susanta Biswas",
            "photoUrl": "//lh5.googleusercontent.com/-j4zod5jytCU/AAAAAAAAAAI/AAAAAAAAAMw/oM-QES-nuuY/s50-c-k-no/photo.jpg",
            "userId": "109162984466767800710"
          }
        }
      },
      "cell_type": "code",
      "source": [
        "print(convert_to_num(words_batch, word_to_idx))"
      ],
      "execution_count": 17,
      "outputs": [
        {
          "output_type": "stream",
          "text": [
            "[[  73    1   42 2591 2929    1    3   78    1    1    3    6    8  120\n",
            "  3122    1    4    0]\n",
            " [  10   12 5359 3033    3   59 9158   19  178 4547   14    2 6048   24\n",
            "  3340 2744    1    4]]\n"
          ],
          "name": "stdout"
        }
      ]
    },
    {
      "metadata": {
        "id": "wQaIIP6cVuTA",
        "colab_type": "code",
        "colab": {
          "autoexec": {
            "startup": false,
            "wait_interval": 0
          },
          "base_uri": "https://localhost:8080/",
          "height": 55
        },
        "outputId": "81ff1afe-d538-4ffc-8c80-215557d17a31",
        "executionInfo": {
          "status": "ok",
          "timestamp": 1530185928101,
          "user_tz": -330,
          "elapsed": 2008,
          "user": {
            "displayName": "Susanta Biswas",
            "photoUrl": "//lh5.googleusercontent.com/-j4zod5jytCU/AAAAAAAAAAI/AAAAAAAAAMw/oM-QES-nuuY/s50-c-k-no/photo.jpg",
            "userId": "109162984466767800710"
          }
        }
      },
      "cell_type": "code",
      "source": [
        "print(convert_to_num(tags_batch,tag_to_idx))"
      ],
      "execution_count": 22,
      "outputs": [
        {
          "output_type": "stream",
          "text": [
            "[[13  3  9  2 13  3  7  6  9  3  7 12  6 13 13  3  7  0]\n",
            " [ 6  9  3  3  7  5  9  4  3  3  4  6  3  4  3  3  3  7]]\n"
          ],
          "name": "stdout"
        }
      ]
    },
    {
      "metadata": {
        "id": "2xEmSnNzVuTJ",
        "colab_type": "text"
      },
      "cell_type": "markdown",
      "source": [
        "## <U>Model\n",
        "We will use Keras model for this."
      ]
    },
    {
      "metadata": {
        "id": "GEnKH2A9VuTL",
        "colab_type": "code",
        "colab": {
          "autoexec": {
            "startup": false,
            "wait_interval": 0
          }
        }
      },
      "cell_type": "code",
      "source": [
        "import keras\n",
        "import keras.layers as L\n",
        "import sys\n",
        "from keras.utils.np_utils import to_categorical\n",
        "from keras.callbacks import LambdaCallback\n",
        "import tensorflow as tf"
      ],
      "execution_count": 0,
      "outputs": []
    },
    {
      "metadata": {
        "id": "P6PGqDtAVuTU",
        "colab_type": "text"
      },
      "cell_type": "markdown",
      "source": [
        "We will use generator for feeding small batches at a time to the model."
      ]
    },
    {
      "metadata": {
        "id": "nSNyYTHAVuTX",
        "colab_type": "code",
        "colab": {
          "autoexec": {
            "startup": false,
            "wait_interval": 0
          }
        }
      },
      "cell_type": "code",
      "source": [
        "# for generating the batches\n",
        "def generate_model_batches(sentences, batch_size=32, pad=0):\n",
        "    # no. of training examples\n",
        "    m = np.arange(len(sentences))\n",
        "    \n",
        "    while True:\n",
        "        # get a shuffled index list\n",
        "        idx = np.random.permutation(m)\n",
        "        \n",
        "        # start yeilding batches\n",
        "        for start in range(0, len(idx)-1, batch_size):\n",
        "            batch_idx = idx[start:start+batch_size]\n",
        "            batch_words, batch_tags = [], []\n",
        "            \n",
        "            # take out the words and tags from 'batch_size' no. of training examples\n",
        "            for index in batch_idx:\n",
        "                words, tags = zip(*sentences[index])\n",
        "                batch_words.append(words)\n",
        "                batch_tags.append(tags)\n",
        "            \n",
        "            # input x\n",
        "            batch_words_num = convert_to_num(batch_words, word_to_idx, pad=0)\n",
        "            batch_tags_num = convert_to_num(batch_tags, tag_to_idx, pad=0)\n",
        "            \n",
        "            # output labels \n",
        "            batch_tags_ohe = to_categorical(batch_tags_num, len(all_tags))\n",
        "            yield batch_words_num, batch_tags_ohe"
      ],
      "execution_count": 0,
      "outputs": []
    },
    {
      "metadata": {
        "id": "gILAjeYvVuTf",
        "colab_type": "code",
        "colab": {
          "autoexec": {
            "startup": false,
            "wait_interval": 0
          }
        }
      },
      "cell_type": "code",
      "source": [
        "# for computing accuracy\n",
        "def compute_accuracy(model):\n",
        "    test_words, test_tags = zip(*[zip(*sentence) for sentence in test_data])\n",
        "    test_words_num = convert_to_num(test_words, word_to_idx)\n",
        "    test_tags_num = convert_to_num(test_tags, tag_to_idx)\n",
        "    \n",
        "    # get prediction tags\n",
        "    predictions = model.predict(test_words_num, batch_size=128, verbose=1)\n",
        "    pred_tags = predictions.argmax(axis=-1)\n",
        "    \n",
        "    # compute accuracy\n",
        "    return float(np.sum(np.logical_and((test_words_num!=0), (pred_tags == test_tags_num))))  \\\n",
        "                /np.sum(test_words_num!=0)\n",
        "                "
      ],
      "execution_count": 0,
      "outputs": []
    },
    {
      "metadata": {
        "id": "9oX07HMHWofX",
        "colab_type": "code",
        "colab": {
          "autoexec": {
            "startup": false,
            "wait_interval": 0
          }
        }
      },
      "cell_type": "code",
      "source": [
        "# for computing accuracy at the end of epoch\n",
        "def on_epoch_end(epoch, logs):\n",
        "    sys.stdout.flush()\n",
        "    print('\\nValidation Accuracy: ' + str(compute_accuracy(model)*100) + ' %')\n",
        "    sys.stdout.flush()"
      ],
      "execution_count": 0,
      "outputs": []
    },
    {
      "metadata": {
        "id": "xQgFOiEuVuTx",
        "colab_type": "code",
        "colab": {
          "autoexec": {
            "startup": false,
            "wait_interval": 0
          }
        }
      },
      "cell_type": "code",
      "source": [
        "acc_callback = LambdaCallback(on_epoch_end=on_epoch_end)"
      ],
      "execution_count": 0,
      "outputs": []
    },
    {
      "metadata": {
        "id": "go1yBnVwVuTl",
        "colab_type": "code",
        "colab": {
          "autoexec": {
            "startup": false,
            "wait_interval": 0
          },
          "base_uri": "https://localhost:8080/",
          "height": 375
        },
        "outputId": "6f557f2f-d01f-4ada-9d95-31480bced6e9",
        "executionInfo": {
          "status": "ok",
          "timestamp": 1530188845977,
          "user_tz": -330,
          "elapsed": 1610,
          "user": {
            "displayName": "Susanta Biswas",
            "photoUrl": "//lh5.googleusercontent.com/-j4zod5jytCU/AAAAAAAAAAI/AAAAAAAAAMw/oM-QES-nuuY/s50-c-k-no/photo.jpg",
            "userId": "109162984466767800710"
          }
        }
      },
      "cell_type": "code",
      "source": [
        "model = keras.models.Sequential()\n",
        "model.add(L.InputLayer([None],dtype='int32'))\n",
        "model.add(L.Embedding(len(vocab),50))\n",
        "\n",
        "model.add(L.Bidirectional(L.LSTM(64,return_sequences=True,activation='tanh')))\n",
        "model.add(L.Dropout(0.35))\n",
        "model.add(L.BatchNormalization())\n",
        "\n",
        "stepwise_dense = L.TimeDistributed(L.Dense(len(all_tags),activation='softmax'))\n",
        "model.add(stepwise_dense)\n",
        "\n",
        "model.summary()"
      ],
      "execution_count": 54,
      "outputs": [
        {
          "output_type": "stream",
          "text": [
            "_________________________________________________________________\n",
            "Layer (type)                 Output Shape              Param #   \n",
            "=================================================================\n",
            "input_9 (InputLayer)         (None, None)              0         \n",
            "_________________________________________________________________\n",
            "embedding_9 (Embedding)      (None, None, 50)          550100    \n",
            "_________________________________________________________________\n",
            "bidirectional_7 (Bidirection (None, None, 128)         58880     \n",
            "_________________________________________________________________\n",
            "dropout_7 (Dropout)          (None, None, 128)         0         \n",
            "_________________________________________________________________\n",
            "batch_normalization_7 (Batch (None, None, 128)         512       \n",
            "_________________________________________________________________\n",
            "time_distributed_9 (TimeDist (None, None, 14)          1806      \n",
            "=================================================================\n",
            "Total params: 611,298\n",
            "Trainable params: 611,042\n",
            "Non-trainable params: 256\n",
            "_________________________________________________________________\n"
          ],
          "name": "stdout"
        }
      ]
    },
    {
      "metadata": {
        "id": "xW0Apj5JVuT1",
        "colab_type": "code",
        "colab": {
          "autoexec": {
            "startup": false,
            "wait_interval": 0
          },
          "base_uri": "https://localhost:8080/",
          "height": 243
        },
        "outputId": "062760d3-0767-4c28-ed88-c73b9c426d60"
      },
      "cell_type": "code",
      "source": [
        "adam = keras.optimizers.Adam(clipvalue=1.5)\n",
        "model.compile(adam, loss='categorical_crossentropy')\n",
        "\n",
        "with tf.device('/gpu:0'):\n",
        "  hist = model.fit_generator(generate_model_batches(train_data, batch_size=256),steps_per_epoch=len(train_data)/256,\n",
        "                    callbacks=[acc_callback], epochs=10)"
      ],
      "execution_count": 0,
      "outputs": [
        {
          "output_type": "stream",
          "text": [
            "Epoch 1/10\n",
            "180/179 [==============================] - 93s 518ms/step - loss: 0.4401\n",
            "11468/11468 [==============================] - 22s 2ms/step\n",
            "\n",
            "Validation Accuracy: 93.15848757135909 %\n",
            "Epoch 2/10\n",
            "180/179 [==============================] - 90s 501ms/step - loss: 0.0590\n",
            "10112/11468 [=========================>....] - ETA: 2s"
          ],
          "name": "stdout"
        },
        {
          "output_type": "stream",
          "text": [
            "11468/11468 [==============================] - 21s 2ms/step\n",
            "\n",
            "Validation Accuracy: 94.89670532217188 %\n",
            "Epoch 3/10\n",
            " 55/179 [========>.....................] - ETA: 1:02 - loss: 0.0453"
          ],
          "name": "stdout"
        }
      ]
    },
    {
      "metadata": {
        "id": "4V4KSMS5U6Ae",
        "colab_type": "code",
        "colab": {
          "autoexec": {
            "startup": false,
            "wait_interval": 0
          }
        }
      },
      "cell_type": "code",
      "source": [
        "# save the model and its weights\n",
        "model.save_weights('drive/Colab Notebooks/weights.h5')\n",
        "model.save('drive/Colab Notebooks/model.h5')"
      ],
      "execution_count": 0,
      "outputs": []
    },
    {
      "metadata": {
        "id": "90IBQll7XQ-4",
        "colab_type": "text"
      },
      "cell_type": "markdown",
      "source": [
        "## Plots"
      ]
    },
    {
      "metadata": {
        "id": "Mx6SMlEhXQod",
        "colab_type": "code",
        "colab": {
          "autoexec": {
            "startup": false,
            "wait_interval": 0
          }
        }
      },
      "cell_type": "code",
      "source": [
        "import matplotlib.pyplot as plt"
      ],
      "execution_count": 0,
      "outputs": []
    },
    {
      "metadata": {
        "id": "Unmnqub4VJpU",
        "colab_type": "code",
        "colab": {
          "autoexec": {
            "startup": false,
            "wait_interval": 0
          }
        }
      },
      "cell_type": "code",
      "source": [
        "tr_loss = hist.History['loss']\n",
        "tr_acc = hist.History['acc']\n",
        "\n"
      ],
      "execution_count": 0,
      "outputs": []
    },
    {
      "metadata": {
        "id": "KVarN-U0VuUC",
        "colab_type": "code",
        "colab": {
          "autoexec": {
            "startup": false,
            "wait_interval": 0
          },
          "base_uri": "https://localhost:8080/",
          "height": 112
        },
        "outputId": "ef73a1ad-e333-4539-8fec-06d2fa8f31a6",
        "executionInfo": {
          "status": "ok",
          "timestamp": 1530186584579,
          "user_tz": -330,
          "elapsed": 19821,
          "user": {
            "displayName": "Susanta Biswas",
            "photoUrl": "//lh5.googleusercontent.com/-j4zod5jytCU/AAAAAAAAAAI/AAAAAAAAAMw/oM-QES-nuuY/s50-c-k-no/photo.jpg",
            "userId": "109162984466767800710"
          }
        }
      },
      "cell_type": "code",
      "source": [
        "!apt-get install -y -qq software-properties-common python-software-properties module-init-tools\n",
        "!add-apt-repository -y ppa:alessandro-strada/ppa 2>&1 > /dev/null\n",
        "!apt-get update -qq 2>&1 > /dev/null\n",
        "!apt-get -y install -qq google-drive-ocamlfuse fuse\n",
        "from google.colab import auth\n",
        "auth.authenticate_user()\n",
        "from oauth2client.client import GoogleCredentials\n",
        "creds = GoogleCredentials.get_application_default()\n",
        "import getpass\n",
        "!google-drive-ocamlfuse -headless -id={creds.client_id} -secret={creds.client_secret} < /dev/null 2>&1 | grep URL\n",
        "vcode = getpass.getpass()\n",
        "!echo {vcode} | google-drive-ocamlfuse -headless -id={creds.client_id} -secret={creds.client_secret}"
      ],
      "execution_count": 2,
      "outputs": [
        {
          "output_type": "stream",
          "text": [
            "Please, open the following URL in a web browser: https://accounts.google.com/o/oauth2/auth?client_id=32555940559.apps.googleusercontent.com&redirect_uri=urn%3Aietf%3Awg%3Aoauth%3A2.0%3Aoob&scope=https%3A%2F%2Fwww.googleapis.com%2Fauth%2Fdrive&response_type=code&access_type=offline&approval_prompt=force\r\n",
            "··········\n",
            "Please, open the following URL in a web browser: https://accounts.google.com/o/oauth2/auth?client_id=32555940559.apps.googleusercontent.com&redirect_uri=urn%3Aietf%3Awg%3Aoauth%3A2.0%3Aoob&scope=https%3A%2F%2Fwww.googleapis.com%2Fauth%2Fdrive&response_type=code&access_type=offline&approval_prompt=force\n",
            "Please enter the verification code: Access token retrieved correctly.\n"
          ],
          "name": "stdout"
        }
      ]
    },
    {
      "metadata": {
        "id": "RE5k-HjrV1wG",
        "colab_type": "code",
        "colab": {
          "autoexec": {
            "startup": false,
            "wait_interval": 0
          }
        }
      },
      "cell_type": "code",
      "source": [
        "!mkdir -p drive\n",
        "!google-drive-ocamlfuse drive"
      ],
      "execution_count": 0,
      "outputs": []
    },
    {
      "metadata": {
        "id": "YBC_j-J5WLY9",
        "colab_type": "code",
        "colab": {
          "autoexec": {
            "startup": false,
            "wait_interval": 0
          },
          "base_uri": "https://localhost:8080/",
          "height": 111
        },
        "outputId": "26c02d19-b150-41a8-a54e-e0b3ccfb5aaa",
        "executionInfo": {
          "status": "ok",
          "timestamp": 1530186598859,
          "user_tz": -330,
          "elapsed": 3538,
          "user": {
            "displayName": "Susanta Biswas",
            "photoUrl": "//lh5.googleusercontent.com/-j4zod5jytCU/AAAAAAAAAAI/AAAAAAAAAMw/oM-QES-nuuY/s50-c-k-no/photo.jpg",
            "userId": "109162984466767800710"
          }
        }
      },
      "cell_type": "code",
      "source": [
        "!pip install tqdm"
      ],
      "execution_count": 4,
      "outputs": [
        {
          "output_type": "stream",
          "text": [
            "Collecting tqdm\n",
            "\u001b[?25l  Downloading https://files.pythonhosted.org/packages/93/24/6ab1df969db228aed36a648a8959d1027099ce45fad67532b9673d533318/tqdm-4.23.4-py2.py3-none-any.whl (42kB)\n",
            "\u001b[K    100% |████████████████████████████████| 51kB 2.1MB/s \n",
            "\u001b[?25hInstalling collected packages: tqdm\n",
            "Successfully installed tqdm-4.23.4\n"
          ],
          "name": "stdout"
        }
      ]
    },
    {
      "metadata": {
        "id": "EEfaRjKUjAjD",
        "colab_type": "code",
        "colab": {
          "autoexec": {
            "startup": false,
            "wait_interval": 0
          },
          "base_uri": "https://localhost:8080/",
          "height": 36
        },
        "outputId": "bea46db1-858f-49ff-bc8c-52107789aa1d",
        "executionInfo": {
          "status": "ok",
          "timestamp": 1530186601386,
          "user_tz": -330,
          "elapsed": 2460,
          "user": {
            "displayName": "Susanta Biswas",
            "photoUrl": "//lh5.googleusercontent.com/-j4zod5jytCU/AAAAAAAAAAI/AAAAAAAAAMw/oM-QES-nuuY/s50-c-k-no/photo.jpg",
            "userId": "109162984466767800710"
          }
        }
      },
      "cell_type": "code",
      "source": [
        "!ls"
      ],
      "execution_count": 5,
      "outputs": [
        {
          "output_type": "stream",
          "text": [
            "datalab  drive\r\n"
          ],
          "name": "stdout"
        }
      ]
    },
    {
      "metadata": {
        "id": "taGeBB2-LFTH",
        "colab_type": "code",
        "colab": {
          "autoexec": {
            "startup": false,
            "wait_interval": 0
          }
        }
      },
      "cell_type": "code",
      "source": [
        ""
      ],
      "execution_count": 0,
      "outputs": []
    }
  ]
}